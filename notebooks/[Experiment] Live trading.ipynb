{
 "cells": [
  {
   "cell_type": "code",
   "execution_count": 1,
   "outputs": [],
   "source": [
    "%load_ext autoreload\n",
    "%autoreload 2\n",
    "%matplotlib inline"
   ],
   "metadata": {
    "collapsed": false
   }
  },
  {
   "cell_type": "code",
   "execution_count": 2,
   "outputs": [],
   "source": [
    "from rl_trading.data.indicators import *\n",
    "from rl_trading.simulation.env import StateConfig\n",
    "\n",
    "state_config = StateConfig(\n",
    "    market_state=['vwap'],\n",
    "    technical_indicators=[\n",
    "        (EMA, dict(timeperiod=5, normalize=True), '1min'),\n",
    "        (EMA, dict(timeperiod=13, normalize=True), '1min'),\n",
    "        (RSI, dict(timeperiod=7, normalize=True), '1min'),\n",
    "        (BBANDS, dict(timeperiod=10), '1min'),\n",
    "        (EMA, dict(timeperiod=20, normalize=True), '1h'),\n",
    "        (EMA, dict(timeperiod=50, normalize=True), '1h'),\n",
    "        (RSI, dict(timeperiod=14, normalize=True), '1h'),\n",
    "        (BBANDS, dict(timeperiod=20), '1h'),\n",
    "        (MACD_DIFF, dict(fastperiod=12, slowperiod=26, signalperiod=9, normalize=True), '1h'),\n",
    "        (EMA, dict(timeperiod=50, normalize=True), '1d'),\n",
    "        (EMA, dict(timeperiod=200, normalize=True), '1d'),\n",
    "        (RSI, dict(timeperiod=14, normalize=True), '1d'),\n",
    "        (BBANDS, dict(timeperiod=20), '1d'),\n",
    "        (MACD_DIFF, dict(fastperiod=12, slowperiod=26, signalperiod=9, normalize=True), '1d'),\n",
    "    ]\n",
    ")\n",
    "\n",
    "data_source = '/home/fassty/Devel/school/diploma_thesis/code/data/binance_BTC_USDT.h5'"
   ],
   "metadata": {
    "collapsed": false
   }
  },
  {
   "cell_type": "code",
   "execution_count": 3,
   "outputs": [
    {
     "name": "stdout",
     "output_type": "stream",
     "text": [
      "Updating data from 2023-06-08 18:01:00 to 2023-06-08 20:18:00\n",
      "Updating data from 2023-06-08 18:01:00 to 2023-06-08 18:02:00\n",
      "Fetched 367\n",
      "Updating data from 2023-06-08 18:02:00 to 2023-06-08 18:03:00\n",
      "Fetched 257\n",
      "Updating data from 2023-06-08 18:03:00 to 2023-06-08 18:04:00\n",
      "Fetched 419\n",
      "Updating data from 2023-06-08 18:04:00 to 2023-06-08 18:05:00\n",
      "Fetched 219\n",
      "Updating data from 2023-06-08 18:05:00 to 2023-06-08 18:06:00\n",
      "Fetched 426\n",
      "Updating data from 2023-06-08 18:06:00 to 2023-06-08 18:07:00\n",
      "Fetched 344\n",
      "Updating data from 2023-06-08 18:07:00 to 2023-06-08 18:08:00\n",
      "Fetched 279\n",
      "Updating data from 2023-06-08 18:08:00 to 2023-06-08 18:09:00\n",
      "Fetched 359\n",
      "Updating data from 2023-06-08 18:09:00 to 2023-06-08 18:10:00\n",
      "Fetched 197\n",
      "Updating data from 2023-06-08 18:10:00 to 2023-06-08 18:11:00\n",
      "Fetched 294\n",
      "Updating data from 2023-06-08 18:11:00 to 2023-06-08 18:12:00\n",
      "Fetched 772\n",
      "Updating data from 2023-06-08 18:12:00 to 2023-06-08 18:13:00\n",
      "Fetched 628\n",
      "Updating data from 2023-06-08 18:13:00 to 2023-06-08 18:14:00\n",
      "Fetched 241\n",
      "Updating data from 2023-06-08 18:14:00 to 2023-06-08 18:15:00\n",
      "Fetched 384\n",
      "Updating data from 2023-06-08 18:15:00 to 2023-06-08 18:16:00\n",
      "Fetched 376\n",
      "Updating data from 2023-06-08 18:16:00 to 2023-06-08 18:17:00\n",
      "Fetched 307\n",
      "Updating data from 2023-06-08 18:17:00 to 2023-06-08 18:18:00\n",
      "Fetched 409\n",
      "Updating data from 2023-06-08 18:18:00 to 2023-06-08 18:19:00\n",
      "Fetched 234\n",
      "Updating data from 2023-06-08 18:19:00 to 2023-06-08 18:20:00\n",
      "Fetched 303\n",
      "Updating data from 2023-06-08 18:20:00 to 2023-06-08 18:21:00\n",
      "Fetched 222\n",
      "Updating data from 2023-06-08 18:21:00 to 2023-06-08 18:22:00\n",
      "Fetched 290\n",
      "Updating data from 2023-06-08 18:22:00 to 2023-06-08 18:23:00\n",
      "Fetched 267\n",
      "Updating data from 2023-06-08 18:23:00 to 2023-06-08 18:24:00\n",
      "Fetched 403\n",
      "Updating data from 2023-06-08 18:24:00 to 2023-06-08 18:25:00\n",
      "Fetched 445\n",
      "Updating data from 2023-06-08 18:25:00 to 2023-06-08 18:26:00\n",
      "Fetched 211\n",
      "Updating data from 2023-06-08 18:26:00 to 2023-06-08 18:27:00\n",
      "Fetched 248\n",
      "Updating data from 2023-06-08 18:27:00 to 2023-06-08 18:28:00\n",
      "Fetched 335\n",
      "Updating data from 2023-06-08 18:28:00 to 2023-06-08 18:29:00\n",
      "Fetched 204\n",
      "Updating data from 2023-06-08 18:29:00 to 2023-06-08 18:30:00\n",
      "Fetched 250\n",
      "Updating data from 2023-06-08 18:30:00 to 2023-06-08 18:31:00\n",
      "Fetched 390\n",
      "Updating data from 2023-06-08 18:31:00 to 2023-06-08 18:32:00\n",
      "Fetched 381\n",
      "Updating data from 2023-06-08 18:32:00 to 2023-06-08 18:33:00\n",
      "Last request failed to retrieve all trades, retry count: 1, fetching trades from id: 2648458528\n",
      "Fetched 1262\n",
      "Updating data from 2023-06-08 18:33:00 to 2023-06-08 18:34:00\n",
      "Fetched 394\n",
      "Updating data from 2023-06-08 18:34:00 to 2023-06-08 18:35:00\n",
      "Fetched 264\n",
      "Updating data from 2023-06-08 18:35:00 to 2023-06-08 18:36:00\n",
      "Fetched 175\n",
      "Updating data from 2023-06-08 18:36:00 to 2023-06-08 18:37:00\n",
      "Fetched 237\n",
      "Updating data from 2023-06-08 18:37:00 to 2023-06-08 18:38:00\n",
      "Fetched 378\n",
      "Updating data from 2023-06-08 18:38:00 to 2023-06-08 18:39:00\n",
      "Fetched 555\n",
      "Updating data from 2023-06-08 18:39:00 to 2023-06-08 18:40:00\n",
      "Fetched 351\n",
      "Updating data from 2023-06-08 18:40:00 to 2023-06-08 18:41:00\n",
      "Fetched 397\n",
      "Updating data from 2023-06-08 18:41:00 to 2023-06-08 18:42:00\n",
      "Fetched 334\n",
      "Updating data from 2023-06-08 18:42:00 to 2023-06-08 18:43:00\n",
      "Last request failed to retrieve all trades, retry count: 1, fetching trades from id: 2648462875\n",
      "Fetched 1204\n",
      "Updating data from 2023-06-08 18:43:00 to 2023-06-08 18:44:00\n",
      "Fetched 666\n",
      "Updating data from 2023-06-08 18:44:00 to 2023-06-08 18:45:00\n",
      "Fetched 820\n",
      "Updating data from 2023-06-08 18:45:00 to 2023-06-08 18:46:00\n",
      "Fetched 452\n",
      "Updating data from 2023-06-08 18:46:00 to 2023-06-08 18:47:00\n",
      "Fetched 466\n",
      "Updating data from 2023-06-08 18:47:00 to 2023-06-08 18:48:00\n",
      "Fetched 433\n",
      "Updating data from 2023-06-08 18:48:00 to 2023-06-08 18:49:00\n",
      "Fetched 456\n",
      "Updating data from 2023-06-08 18:49:00 to 2023-06-08 18:50:00\n",
      "Fetched 289\n",
      "Updating data from 2023-06-08 18:50:00 to 2023-06-08 18:51:00\n",
      "Fetched 296\n",
      "Updating data from 2023-06-08 18:51:00 to 2023-06-08 18:52:00\n",
      "Fetched 172\n",
      "Updating data from 2023-06-08 18:52:00 to 2023-06-08 18:53:00\n",
      "Fetched 451\n",
      "Updating data from 2023-06-08 18:53:00 to 2023-06-08 18:54:00\n",
      "Fetched 391\n",
      "Updating data from 2023-06-08 18:54:00 to 2023-06-08 18:55:00\n",
      "Fetched 245\n",
      "Updating data from 2023-06-08 18:55:00 to 2023-06-08 18:56:00\n",
      "Fetched 574\n",
      "Updating data from 2023-06-08 18:56:00 to 2023-06-08 18:57:00\n",
      "Fetched 470\n",
      "Updating data from 2023-06-08 18:57:00 to 2023-06-08 18:58:00\n",
      "Fetched 407\n",
      "Updating data from 2023-06-08 18:58:00 to 2023-06-08 18:59:00\n",
      "Fetched 276\n",
      "Updating data from 2023-06-08 18:59:00 to 2023-06-08 19:00:00\n",
      "Fetched 219\n",
      "Updating data from 2023-06-08 19:00:00 to 2023-06-08 19:01:00\n",
      "Fetched 208\n",
      "Updating data from 2023-06-08 19:01:00 to 2023-06-08 19:02:00\n",
      "Fetched 435\n",
      "Updating data from 2023-06-08 19:02:00 to 2023-06-08 19:03:00\n",
      "Fetched 533\n",
      "Updating data from 2023-06-08 19:03:00 to 2023-06-08 19:04:00\n",
      "Fetched 563\n",
      "Updating data from 2023-06-08 19:04:00 to 2023-06-08 19:05:00\n",
      "Fetched 313\n",
      "Updating data from 2023-06-08 19:05:00 to 2023-06-08 19:06:00\n",
      "Fetched 358\n",
      "Updating data from 2023-06-08 19:06:00 to 2023-06-08 19:07:00\n",
      "Fetched 322\n",
      "Updating data from 2023-06-08 19:07:00 to 2023-06-08 19:08:00\n",
      "Fetched 163\n",
      "Updating data from 2023-06-08 19:08:00 to 2023-06-08 19:09:00\n",
      "Fetched 389\n",
      "Updating data from 2023-06-08 19:09:00 to 2023-06-08 19:10:00\n",
      "Fetched 160\n",
      "Updating data from 2023-06-08 19:10:00 to 2023-06-08 19:11:00\n",
      "Fetched 283\n",
      "Updating data from 2023-06-08 19:11:00 to 2023-06-08 19:12:00\n",
      "Fetched 262\n",
      "Updating data from 2023-06-08 19:12:00 to 2023-06-08 19:13:00\n",
      "Fetched 220\n",
      "Updating data from 2023-06-08 19:13:00 to 2023-06-08 19:14:00\n",
      "Fetched 326\n",
      "Updating data from 2023-06-08 19:14:00 to 2023-06-08 19:15:00\n",
      "Fetched 388\n",
      "Updating data from 2023-06-08 19:15:00 to 2023-06-08 19:16:00\n",
      "Fetched 219\n",
      "Updating data from 2023-06-08 19:16:00 to 2023-06-08 19:17:00\n",
      "Fetched 233\n",
      "Updating data from 2023-06-08 19:17:00 to 2023-06-08 19:18:00\n",
      "Fetched 330\n",
      "Updating data from 2023-06-08 19:18:00 to 2023-06-08 19:19:00\n",
      "Fetched 165\n",
      "Updating data from 2023-06-08 19:19:00 to 2023-06-08 19:20:00\n",
      "Fetched 321\n",
      "Updating data from 2023-06-08 19:20:00 to 2023-06-08 19:21:00\n",
      "Fetched 241\n",
      "Updating data from 2023-06-08 19:21:00 to 2023-06-08 19:22:00\n",
      "Fetched 248\n",
      "Updating data from 2023-06-08 19:22:00 to 2023-06-08 19:23:00\n",
      "Fetched 184\n",
      "Updating data from 2023-06-08 19:23:00 to 2023-06-08 19:24:00\n",
      "Fetched 316\n",
      "Updating data from 2023-06-08 19:24:00 to 2023-06-08 19:25:00\n",
      "Fetched 269\n",
      "Updating data from 2023-06-08 19:25:00 to 2023-06-08 19:26:00\n",
      "Fetched 515\n",
      "Updating data from 2023-06-08 19:26:00 to 2023-06-08 19:27:00\n",
      "Fetched 440\n",
      "Updating data from 2023-06-08 19:27:00 to 2023-06-08 19:28:00\n",
      "Fetched 165\n",
      "Updating data from 2023-06-08 19:28:00 to 2023-06-08 19:29:00\n",
      "Fetched 411\n",
      "Updating data from 2023-06-08 19:29:00 to 2023-06-08 19:30:00\n",
      "Fetched 273\n",
      "Updating data from 2023-06-08 19:30:00 to 2023-06-08 19:31:00\n",
      "Fetched 347\n",
      "Updating data from 2023-06-08 19:31:00 to 2023-06-08 19:32:00\n",
      "Fetched 162\n",
      "Updating data from 2023-06-08 19:32:00 to 2023-06-08 19:33:00\n",
      "Fetched 244\n",
      "Updating data from 2023-06-08 19:33:00 to 2023-06-08 19:34:00\n",
      "Fetched 364\n",
      "Updating data from 2023-06-08 19:34:00 to 2023-06-08 19:35:00\n",
      "Fetched 177\n",
      "Updating data from 2023-06-08 19:35:00 to 2023-06-08 19:36:00\n",
      "Fetched 285\n",
      "Updating data from 2023-06-08 19:36:00 to 2023-06-08 19:37:00\n",
      "Fetched 186\n",
      "Updating data from 2023-06-08 19:37:00 to 2023-06-08 19:38:00\n",
      "Fetched 260\n",
      "Updating data from 2023-06-08 19:38:00 to 2023-06-08 19:39:00\n",
      "Fetched 276\n",
      "Updating data from 2023-06-08 19:39:00 to 2023-06-08 19:40:00\n",
      "Fetched 278\n",
      "Updating data from 2023-06-08 19:40:00 to 2023-06-08 19:41:00\n",
      "Fetched 223\n",
      "Updating data from 2023-06-08 19:41:00 to 2023-06-08 19:42:00\n",
      "Fetched 148\n",
      "Updating data from 2023-06-08 19:42:00 to 2023-06-08 19:43:00\n",
      "Fetched 439\n",
      "Updating data from 2023-06-08 19:43:00 to 2023-06-08 19:44:00\n",
      "Fetched 222\n",
      "Updating data from 2023-06-08 19:44:00 to 2023-06-08 19:45:00\n",
      "Fetched 274\n",
      "Updating data from 2023-06-08 19:45:00 to 2023-06-08 19:46:00\n",
      "Fetched 304\n",
      "Updating data from 2023-06-08 19:46:00 to 2023-06-08 19:47:00\n",
      "Fetched 314\n",
      "Updating data from 2023-06-08 19:47:00 to 2023-06-08 19:48:00\n",
      "Fetched 140\n",
      "Updating data from 2023-06-08 19:48:00 to 2023-06-08 19:49:00\n",
      "Fetched 241\n",
      "Updating data from 2023-06-08 19:49:00 to 2023-06-08 19:50:00\n",
      "Fetched 295\n",
      "Updating data from 2023-06-08 19:50:00 to 2023-06-08 19:51:00\n",
      "Fetched 454\n",
      "Updating data from 2023-06-08 19:51:00 to 2023-06-08 19:52:00\n",
      "Fetched 198\n",
      "Updating data from 2023-06-08 19:52:00 to 2023-06-08 19:53:00\n",
      "Fetched 182\n",
      "Updating data from 2023-06-08 19:53:00 to 2023-06-08 19:54:00\n",
      "Fetched 130\n",
      "Updating data from 2023-06-08 19:54:00 to 2023-06-08 19:55:00\n",
      "Fetched 218\n",
      "Updating data from 2023-06-08 19:55:00 to 2023-06-08 19:56:00\n",
      "Fetched 111\n",
      "Updating data from 2023-06-08 19:56:00 to 2023-06-08 19:57:00\n",
      "Fetched 254\n",
      "Updating data from 2023-06-08 19:57:00 to 2023-06-08 19:58:00\n",
      "Fetched 147\n",
      "Updating data from 2023-06-08 19:58:00 to 2023-06-08 19:59:00\n",
      "Fetched 221\n",
      "Updating data from 2023-06-08 19:59:00 to 2023-06-08 20:00:00\n",
      "Fetched 293\n",
      "Updating data from 2023-06-08 20:00:00 to 2023-06-08 20:01:00\n",
      "Fetched 288\n",
      "Updating data from 2023-06-08 20:01:00 to 2023-06-08 20:02:00\n",
      "Fetched 484\n",
      "Updating data from 2023-06-08 20:02:00 to 2023-06-08 20:03:00\n",
      "Fetched 439\n",
      "Updating data from 2023-06-08 20:03:00 to 2023-06-08 20:04:00\n",
      "Fetched 328\n",
      "Updating data from 2023-06-08 20:04:00 to 2023-06-08 20:05:00\n",
      "Fetched 164\n",
      "Updating data from 2023-06-08 20:05:00 to 2023-06-08 20:06:00\n",
      "Fetched 179\n",
      "Updating data from 2023-06-08 20:06:00 to 2023-06-08 20:07:00\n",
      "Fetched 181\n",
      "Updating data from 2023-06-08 20:07:00 to 2023-06-08 20:08:00\n",
      "Fetched 409\n",
      "Updating data from 2023-06-08 20:08:00 to 2023-06-08 20:09:00\n",
      "Fetched 197\n",
      "Updating data from 2023-06-08 20:09:00 to 2023-06-08 20:10:00\n",
      "Fetched 183\n",
      "Updating data from 2023-06-08 20:10:00 to 2023-06-08 20:11:00\n",
      "Fetched 486\n",
      "Updating data from 2023-06-08 20:11:00 to 2023-06-08 20:12:00\n",
      "Fetched 284\n",
      "Updating data from 2023-06-08 20:12:00 to 2023-06-08 20:13:00\n",
      "Fetched 157\n",
      "Updating data from 2023-06-08 20:13:00 to 2023-06-08 20:14:00\n",
      "Fetched 185\n",
      "Updating data from 2023-06-08 20:14:00 to 2023-06-08 20:15:00\n",
      "Fetched 165\n",
      "Updating data from 2023-06-08 20:15:00 to 2023-06-08 20:16:00\n",
      "Fetched 368\n",
      "Updating data from 2023-06-08 20:16:00 to 2023-06-08 20:17:00\n",
      "Fetched 154\n",
      "Updating data from 2023-06-08 20:17:00 to 2023-06-08 20:18:00\n",
      "Fetched 237\n"
     ]
    },
    {
     "name": "stderr",
     "output_type": "stream",
     "text": [
      "2023-06-08 22:19:27,906\tWARNING checkpoints.py:109 -- No `rllib_checkpoint.json` file found in checkpoint directory /home/fassty/Devel/school/diploma_thesis/code/exp_results/discrete_env_21ind_normalized_fee=1e-3/R2D2_stored/R2D2_StockExchangeEnv-v0_0d02d_00000_0_2023-05-16_00-08-45/checkpoint_001000! Trying to extract checkpoint info from other files found in that dir.\n",
      "2023-06-08 22:19:27,918\tWARNING algorithm_config.py:635 -- Cannot create R2D2Config from given `config_dict`! Property __stdout_file__ not supported.\n",
      "2023-06-08 22:19:28,807\tINFO worker.py:1616 -- Started a local Ray instance. View the dashboard at \u001B[1m\u001B[32m127.0.0.1:8265 \u001B[39m\u001B[22m\n",
      "\u001B[2m\u001B[36m(RolloutWorker pid=658305)\u001B[0m 2023-06-08 22:19:40,560\tWARNING env.py:155 -- Your env doesn't have a .spec.max_episode_steps attribute. Your horizon will default to infinity, and your environment will not be reset.\n",
      "2023-06-08 22:19:45,978\tWARNING env.py:155 -- Your env doesn't have a .spec.max_episode_steps attribute. Your horizon will default to infinity, and your environment will not be reset.\n",
      "2023-06-08 22:19:46,046\tINFO trainable.py:172 -- Trainable.setup took 18.109 seconds. If your trainable is slow to initialize, consider setting reuse_actors=True to reduce actor creation overheads.\n"
     ]
    },
    {
     "name": "stdout",
     "output_type": "stream",
     "text": [
      "Agent initialized\n",
      "Running...\n",
      "Updating data from 2023-06-08 20:18:00 to 2023-06-08 20:19:00\n",
      "Updating data from 2023-06-08 20:18:00 to 2023-06-08 20:19:00\n",
      "Fetched 213\n",
      "Updating data from 2023-06-08 20:19:00 to 2023-06-08 20:20:00\n",
      "Updating data from 2023-06-08 20:19:00 to 2023-06-08 20:20:00\n",
      "Fetched 290\n",
      "Selected action: 0\n",
      "Updating data from 2023-06-08 20:20:00 to 2023-06-08 20:21:00\n",
      "Updating data from 2023-06-08 20:20:00 to 2023-06-08 20:21:00\n",
      "Fetched 157\n",
      "Selected action: 2\n",
      "Updating data from 2023-06-08 20:21:00 to 2023-06-08 20:22:00\n",
      "Updating data from 2023-06-08 20:21:00 to 2023-06-08 20:22:00\n",
      "Fetched 923\n",
      "Selected action: 2\n",
      "Updating data from 2023-06-08 20:22:00 to 2023-06-08 20:23:00\n",
      "Updating data from 2023-06-08 20:22:00 to 2023-06-08 20:23:00\n",
      "Last request failed to retrieve all trades, retry count: 1, fetching trades from id: 2648494313\n",
      "Fetched 1531\n",
      "Selected action: 0\n",
      "Updating data from 2023-06-08 20:23:00 to 2023-06-08 20:24:00\n",
      "Updating data from 2023-06-08 20:23:00 to 2023-06-08 20:24:00\n",
      "Fetched 498\n",
      "Selected action: 0\n"
     ]
    },
    {
     "ename": "KeyboardInterrupt",
     "evalue": "",
     "output_type": "error",
     "traceback": [
      "\u001B[0;31m---------------------------------------------------------------------------\u001B[0m",
      "\u001B[0;31mKeyboardInterrupt\u001B[0m                         Traceback (most recent call last)",
      "Cell \u001B[0;32mIn[3], line 9\u001B[0m\n\u001B[1;32m      5\u001B[0m model_path \u001B[38;5;241m=\u001B[39m \u001B[38;5;124m'\u001B[39m\u001B[38;5;124m/home/fassty/Devel/school/diploma_thesis/code/exp_results/discrete_env_21ind_normalized_fee=1e-3/R2D2_stored/R2D2_StockExchangeEnv-v0_0d02d_00000_0_2023-05-16_00-08-45/checkpoint_001000\u001B[39m\u001B[38;5;124m'\u001B[39m\n\u001B[1;32m      7\u001B[0m agent \u001B[38;5;241m=\u001B[39m TradingAgent(api_key, secret_key, data_source, state_config, model_path)\n\u001B[0;32m----> 9\u001B[0m \u001B[43magent\u001B[49m\u001B[38;5;241;43m.\u001B[39;49m\u001B[43mrun\u001B[49m\u001B[43m(\u001B[49m\u001B[43m)\u001B[49m\n",
      "File \u001B[0;32m~/Devel/school/diploma_thesis/code/rl_trading/strategy/agent.py:52\u001B[0m, in \u001B[0;36mTradingAgent.run\u001B[0;34m(self)\u001B[0m\n\u001B[1;32m     50\u001B[0m \u001B[38;5;28;01mwhile\u001B[39;00m \u001B[38;5;28;01mTrue\u001B[39;00m:\n\u001B[1;32m     51\u001B[0m     schedule\u001B[38;5;241m.\u001B[39mrun_pending()\n\u001B[0;32m---> 52\u001B[0m     \u001B[43mtime\u001B[49m\u001B[38;5;241;43m.\u001B[39;49m\u001B[43msleep\u001B[49m\u001B[43m(\u001B[49m\u001B[38;5;241;43m1\u001B[39;49m\u001B[43m)\u001B[49m\n",
      "\u001B[0;31mKeyboardInterrupt\u001B[0m: "
     ]
    }
   ],
   "source": [
    "from rl_trading.strategy.agent import TradingAgent\n",
    "\n",
    "api_key = 'FMAY0iFQn81Qk10zTZfKyB38Pis6YNqNcgdPVuqMP7G5NcC2JlBtoeAtqsh0a4Ms'\n",
    "secret_key = '0ndDGHyNtkTJL845PwOst7JHSNIgIWuyecQDWbCjHDoEWfIaYg6N0qXdyUHRIt8N'\n",
    "model_path = '/home/fassty/Devel/school/diploma_thesis/code/exp_results/discrete_env_21ind_normalized_fee=1e-3/R2D2_stored/R2D2_StockExchangeEnv-v0_0d02d_00000_0_2023-05-16_00-08-45/checkpoint_001000'\n",
    "\n",
    "agent = TradingAgent(api_key, secret_key, data_source, state_config, model_path)\n",
    "\n",
    "agent.run()"
   ],
   "metadata": {
    "collapsed": false
   }
  },
  {
   "cell_type": "code",
   "execution_count": 11,
   "metadata": {
    "collapsed": true
   },
   "outputs": [
    {
     "name": "stdout",
     "output_type": "stream",
     "text": [
      "Updating data from 2023-06-08 18:01:00 to 2023-06-08 19:19:00\n",
      "Updating data from 2023-06-08 18:01:00 to 2023-06-08 18:02:00\n",
      "Fetched 367\n",
      "Updating data from 2023-06-08 18:02:00 to 2023-06-08 18:03:00\n",
      "Fetched 257\n",
      "Updating data from 2023-06-08 18:03:00 to 2023-06-08 18:04:00\n",
      "Fetched 419\n",
      "Updating data from 2023-06-08 18:04:00 to 2023-06-08 18:05:00\n",
      "Fetched 219\n",
      "Updating data from 2023-06-08 18:05:00 to 2023-06-08 18:06:00\n",
      "Fetched 426\n",
      "Updating data from 2023-06-08 18:06:00 to 2023-06-08 18:07:00\n",
      "Fetched 344\n",
      "Updating data from 2023-06-08 18:07:00 to 2023-06-08 18:08:00\n",
      "Fetched 279\n",
      "Updating data from 2023-06-08 18:08:00 to 2023-06-08 18:09:00\n",
      "Fetched 359\n",
      "Updating data from 2023-06-08 18:09:00 to 2023-06-08 18:10:00\n",
      "Fetched 197\n",
      "Updating data from 2023-06-08 18:10:00 to 2023-06-08 18:11:00\n",
      "Fetched 294\n",
      "Updating data from 2023-06-08 18:11:00 to 2023-06-08 18:12:00\n",
      "Fetched 772\n",
      "Updating data from 2023-06-08 18:12:00 to 2023-06-08 18:13:00\n",
      "Fetched 628\n",
      "Updating data from 2023-06-08 18:13:00 to 2023-06-08 18:14:00\n",
      "Fetched 241\n",
      "Updating data from 2023-06-08 18:14:00 to 2023-06-08 18:15:00\n",
      "Fetched 384\n",
      "Updating data from 2023-06-08 18:15:00 to 2023-06-08 18:16:00\n",
      "Fetched 376\n",
      "Updating data from 2023-06-08 18:16:00 to 2023-06-08 18:17:00\n",
      "Fetched 307\n",
      "Updating data from 2023-06-08 18:17:00 to 2023-06-08 18:18:00\n",
      "Fetched 409\n",
      "Updating data from 2023-06-08 18:18:00 to 2023-06-08 18:19:00\n",
      "Fetched 234\n",
      "Updating data from 2023-06-08 18:19:00 to 2023-06-08 18:20:00\n",
      "Fetched 303\n",
      "Updating data from 2023-06-08 18:20:00 to 2023-06-08 18:21:00\n",
      "Fetched 222\n",
      "Updating data from 2023-06-08 18:21:00 to 2023-06-08 18:22:00\n",
      "Fetched 290\n",
      "Updating data from 2023-06-08 18:22:00 to 2023-06-08 18:23:00\n",
      "Fetched 267\n",
      "Updating data from 2023-06-08 18:23:00 to 2023-06-08 18:24:00\n",
      "Fetched 403\n",
      "Updating data from 2023-06-08 18:24:00 to 2023-06-08 18:25:00\n",
      "Fetched 445\n",
      "Updating data from 2023-06-08 18:25:00 to 2023-06-08 18:26:00\n",
      "Fetched 211\n",
      "Updating data from 2023-06-08 18:26:00 to 2023-06-08 18:27:00\n",
      "Fetched 248\n",
      "Updating data from 2023-06-08 18:27:00 to 2023-06-08 18:28:00\n",
      "Fetched 335\n",
      "Updating data from 2023-06-08 18:28:00 to 2023-06-08 18:29:00\n",
      "Fetched 204\n",
      "Updating data from 2023-06-08 18:29:00 to 2023-06-08 18:30:00\n",
      "Fetched 250\n",
      "Updating data from 2023-06-08 18:30:00 to 2023-06-08 18:31:00\n",
      "Fetched 390\n",
      "Updating data from 2023-06-08 18:31:00 to 2023-06-08 18:32:00\n",
      "Fetched 381\n",
      "Updating data from 2023-06-08 18:32:00 to 2023-06-08 18:33:00\n",
      "Last request failed to retrieve all trades, retry count: 1, fetching trades from id: 2648458528\n",
      "Fetched 1262\n",
      "Updating data from 2023-06-08 18:33:00 to 2023-06-08 18:34:00\n",
      "Fetched 394\n",
      "Updating data from 2023-06-08 18:34:00 to 2023-06-08 18:35:00\n",
      "Fetched 264\n",
      "Updating data from 2023-06-08 18:35:00 to 2023-06-08 18:36:00\n",
      "Fetched 175\n",
      "Updating data from 2023-06-08 18:36:00 to 2023-06-08 18:37:00\n",
      "Fetched 237\n",
      "Updating data from 2023-06-08 18:37:00 to 2023-06-08 18:38:00\n",
      "Fetched 378\n",
      "Updating data from 2023-06-08 18:38:00 to 2023-06-08 18:39:00\n",
      "Fetched 555\n",
      "Updating data from 2023-06-08 18:39:00 to 2023-06-08 18:40:00\n",
      "Fetched 351\n",
      "Updating data from 2023-06-08 18:40:00 to 2023-06-08 18:41:00\n",
      "Fetched 397\n",
      "Updating data from 2023-06-08 18:41:00 to 2023-06-08 18:42:00\n",
      "Fetched 334\n",
      "Updating data from 2023-06-08 18:42:00 to 2023-06-08 18:43:00\n",
      "Last request failed to retrieve all trades, retry count: 1, fetching trades from id: 2648462875\n",
      "Fetched 1204\n",
      "Updating data from 2023-06-08 18:43:00 to 2023-06-08 18:44:00\n",
      "Fetched 666\n",
      "Updating data from 2023-06-08 18:44:00 to 2023-06-08 18:45:00\n",
      "Fetched 820\n",
      "Updating data from 2023-06-08 18:45:00 to 2023-06-08 18:46:00\n",
      "Fetched 452\n",
      "Updating data from 2023-06-08 18:46:00 to 2023-06-08 18:47:00\n",
      "Fetched 466\n",
      "Updating data from 2023-06-08 18:47:00 to 2023-06-08 18:48:00\n",
      "Fetched 433\n",
      "Updating data from 2023-06-08 18:48:00 to 2023-06-08 18:49:00\n",
      "Fetched 456\n",
      "Updating data from 2023-06-08 18:49:00 to 2023-06-08 18:50:00\n",
      "Fetched 289\n",
      "Updating data from 2023-06-08 18:50:00 to 2023-06-08 18:51:00\n",
      "Fetched 296\n",
      "Updating data from 2023-06-08 18:51:00 to 2023-06-08 18:52:00\n",
      "Fetched 172\n",
      "Updating data from 2023-06-08 18:52:00 to 2023-06-08 18:53:00\n",
      "Fetched 451\n",
      "Updating data from 2023-06-08 18:53:00 to 2023-06-08 18:54:00\n",
      "Fetched 391\n",
      "Updating data from 2023-06-08 18:54:00 to 2023-06-08 18:55:00\n",
      "Fetched 245\n",
      "Updating data from 2023-06-08 18:55:00 to 2023-06-08 18:56:00\n",
      "Fetched 574\n",
      "Updating data from 2023-06-08 18:56:00 to 2023-06-08 18:57:00\n",
      "Fetched 470\n",
      "Updating data from 2023-06-08 18:57:00 to 2023-06-08 18:58:00\n",
      "Fetched 407\n",
      "Updating data from 2023-06-08 18:58:00 to 2023-06-08 18:59:00\n",
      "Fetched 276\n",
      "Updating data from 2023-06-08 18:59:00 to 2023-06-08 19:00:00\n",
      "Fetched 219\n",
      "Updating data from 2023-06-08 19:00:00 to 2023-06-08 19:01:00\n",
      "Fetched 208\n",
      "Updating data from 2023-06-08 19:01:00 to 2023-06-08 19:02:00\n",
      "Fetched 435\n",
      "Updating data from 2023-06-08 19:02:00 to 2023-06-08 19:03:00\n",
      "Fetched 533\n",
      "Updating data from 2023-06-08 19:03:00 to 2023-06-08 19:04:00\n",
      "Fetched 563\n",
      "Updating data from 2023-06-08 19:04:00 to 2023-06-08 19:05:00\n",
      "Fetched 313\n",
      "Updating data from 2023-06-08 19:05:00 to 2023-06-08 19:06:00\n",
      "Fetched 358\n",
      "Updating data from 2023-06-08 19:06:00 to 2023-06-08 19:07:00\n",
      "Fetched 322\n",
      "Updating data from 2023-06-08 19:07:00 to 2023-06-08 19:08:00\n",
      "Fetched 163\n",
      "Updating data from 2023-06-08 19:08:00 to 2023-06-08 19:09:00\n",
      "Fetched 389\n",
      "Updating data from 2023-06-08 19:09:00 to 2023-06-08 19:10:00\n",
      "Fetched 160\n",
      "Updating data from 2023-06-08 19:10:00 to 2023-06-08 19:11:00\n",
      "Fetched 283\n",
      "Updating data from 2023-06-08 19:11:00 to 2023-06-08 19:12:00\n",
      "Fetched 262\n",
      "Updating data from 2023-06-08 19:12:00 to 2023-06-08 19:13:00\n",
      "Fetched 220\n",
      "Updating data from 2023-06-08 19:13:00 to 2023-06-08 19:14:00\n",
      "Fetched 326\n",
      "Updating data from 2023-06-08 19:14:00 to 2023-06-08 19:15:00\n",
      "Fetched 388\n",
      "Updating data from 2023-06-08 19:15:00 to 2023-06-08 19:16:00\n",
      "Fetched 219\n",
      "Updating data from 2023-06-08 19:16:00 to 2023-06-08 19:17:00\n",
      "Fetched 233\n",
      "Updating data from 2023-06-08 19:17:00 to 2023-06-08 19:18:00\n",
      "Fetched 330\n",
      "Updating data from 2023-06-08 19:18:00 to 2023-06-08 19:19:00\n",
      "Fetched 165\n"
     ]
    }
   ],
   "source": [
    "from rl_trading.data.api import BinanceAPI\n",
    "from rl_trading.simulation.env import LiveTradingEnv\n",
    "\n",
    "api_key = 'FMAY0iFQn81Qk10zTZfKyB38Pis6YNqNcgdPVuqMP7G5NcC2JlBtoeAtqsh0a4Ms'\n",
    "secret_key = '0ndDGHyNtkTJL845PwOst7JHSNIgIWuyecQDWbCjHDoEWfIaYg6N0qXdyUHRIt8N'\n",
    "\n",
    "api = BinanceAPI(api_key, secret_key)\n",
    "env = LiveTradingEnv(api, data_file_path=data_source, state_config=state_config)"
   ]
  },
  {
   "cell_type": "code",
   "execution_count": 12,
   "outputs": [
    {
     "name": "stdout",
     "output_type": "stream",
     "text": [
      "Updating data from 2023-06-08 19:19:00 to 2023-06-08 19:20:00\n",
      "Updating data from 2023-06-08 19:19:00 to 2023-06-08 19:20:00\n",
      "Fetched 321\n"
     ]
    },
    {
     "data": {
      "text/plain": "array([ 9.97163955e-01,  2.07199231e-04,  9.99844018e-01,  9.99952393e-01,\n        5.34715026e-01,  3.33557643e-01,  9.96785289e-01,  1.00284436e+00,\n        5.78791537e-01,  2.68902395e-01,  7.56318008e-04,  1.03863501e+00,\n        8.80270816e-01,  5.05117205e-01,  6.93119254e-01, -1.75077039e-03,\n        1.00000000e+00,  2.92898000e-03])"
     },
     "execution_count": 12,
     "metadata": {},
     "output_type": "execute_result"
    }
   ],
   "source": [
    "env.get_current_state()"
   ],
   "metadata": {
    "collapsed": false
   }
  },
  {
   "cell_type": "code",
   "execution_count": 3,
   "outputs": [
    {
     "data": {
      "text/plain": "{'makerCommission': 10,\n 'takerCommission': 10,\n 'buyerCommission': 0,\n 'sellerCommission': 0,\n 'commissionRates': {'maker': '0.00100000',\n  'taker': '0.00100000',\n  'buyer': '0.00000000',\n  'seller': '0.00000000'},\n 'canTrade': True,\n 'canWithdraw': True,\n 'canDeposit': True,\n 'brokered': False,\n 'requireSelfTradePrevention': False,\n 'updateTime': 1686213183477,\n 'accountType': 'SPOT',\n 'balances': [{'asset': 'BTC', 'free': '0.00292898', 'locked': '0.00000000'},\n  {'asset': 'LTC', 'free': '0.00000002', 'locked': '0.00000000'},\n  {'asset': 'ETH', 'free': '0.00000000', 'locked': '0.05290000'},\n  {'asset': 'NEO', 'free': '0.00000000', 'locked': '0.00000000'},\n  {'asset': 'BNB', 'free': '0.05684848', 'locked': '0.00000000'},\n  {'asset': 'QTUM', 'free': '0.00000000', 'locked': '0.00000000'},\n  {'asset': 'EOS', 'free': '0.00000000', 'locked': '0.00000000'},\n  {'asset': 'SNT', 'free': '0.00000000', 'locked': '0.00000000'},\n  {'asset': 'BNT', 'free': '0.00000000', 'locked': '0.00000000'},\n  {'asset': 'GAS', 'free': '0.00000000', 'locked': '0.00000000'},\n  {'asset': 'BCC', 'free': '0.00000000', 'locked': '0.00000000'},\n  {'asset': 'USDT', 'free': '0.00000000', 'locked': '0.00000000'},\n  {'asset': 'HSR', 'free': '0.00000000', 'locked': '0.00000000'},\n  {'asset': 'OAX', 'free': '0.00000000', 'locked': '0.00000000'},\n  {'asset': 'DNT', 'free': '0.00000000', 'locked': '0.00000000'},\n  {'asset': 'MCO', 'free': '0.00000000', 'locked': '0.00000000'},\n  {'asset': 'ICN', 'free': '0.00000000', 'locked': '0.00000000'},\n  {'asset': 'ZRX', 'free': '0.00000000', 'locked': '0.00000000'},\n  {'asset': 'OMG', 'free': '0.00000000', 'locked': '0.00000000'},\n  {'asset': 'WTC', 'free': '0.00000000', 'locked': '0.00000000'},\n  {'asset': 'YOYO', 'free': '0.00000000', 'locked': '0.00000000'},\n  {'asset': 'LRC', 'free': '0.00000000', 'locked': '0.00000000'},\n  {'asset': 'TRX', 'free': '0.00000000', 'locked': '0.00000000'},\n  {'asset': 'SNGLS', 'free': '0.00000000', 'locked': '0.00000000'},\n  {'asset': 'STRAT', 'free': '0.00000000', 'locked': '0.00000000'},\n  {'asset': 'BQX', 'free': '0.00000000', 'locked': '0.00000000'},\n  {'asset': 'FUN', 'free': '0.00000000', 'locked': '0.00000000'},\n  {'asset': 'KNC', 'free': '0.00000000', 'locked': '0.00000000'},\n  {'asset': 'CDT', 'free': '0.00000000', 'locked': '0.00000000'},\n  {'asset': 'XVG', 'free': '0.00000000', 'locked': '0.00000000'},\n  {'asset': 'IOTA', 'free': '0.00000000', 'locked': '0.00000000'},\n  {'asset': 'SNM', 'free': '0.00000000', 'locked': '0.00000000'},\n  {'asset': 'LINK', 'free': '0.00000000', 'locked': '0.00000000'},\n  {'asset': 'CVC', 'free': '0.00000000', 'locked': '0.00000000'},\n  {'asset': 'TNT', 'free': '0.00000000', 'locked': '0.00000000'},\n  {'asset': 'REP', 'free': '0.00000000', 'locked': '0.00000000'},\n  {'asset': 'MDA', 'free': '0.00000000', 'locked': '0.00000000'},\n  {'asset': 'MTL', 'free': '0.00000000', 'locked': '0.00000000'},\n  {'asset': 'SALT', 'free': '0.00000000', 'locked': '0.00000000'},\n  {'asset': 'NULS', 'free': '0.00000000', 'locked': '0.00000000'},\n  {'asset': 'SUB', 'free': '0.00000000', 'locked': '0.00000000'},\n  {'asset': 'STX', 'free': '0.00000000', 'locked': '0.00000000'},\n  {'asset': 'MTH', 'free': '0.00000000', 'locked': '0.00000000'},\n  {'asset': 'ADX', 'free': '0.00000000', 'locked': '0.00000000'},\n  {'asset': 'ETC', 'free': '0.00000000', 'locked': '0.00000000'},\n  {'asset': 'ENG', 'free': '0.00000000', 'locked': '0.00000000'},\n  {'asset': 'ZEC', 'free': '0.00000000', 'locked': '0.00000000'},\n  {'asset': 'AST', 'free': '0.00000000', 'locked': '0.00000000'},\n  {'asset': 'GNT', 'free': '0.00000000', 'locked': '0.00000000'},\n  {'asset': 'DGD', 'free': '0.00000000', 'locked': '0.00000000'},\n  {'asset': 'BAT', 'free': '0.00000000', 'locked': '0.00000000'},\n  {'asset': 'DASH', 'free': '0.00000000', 'locked': '0.00000000'},\n  {'asset': 'POWR', 'free': '0.00000000', 'locked': '0.00000000'},\n  {'asset': 'BTG', 'free': '0.00000000', 'locked': '0.00000000'},\n  {'asset': 'REQ', 'free': '0.00000000', 'locked': '0.00000000'},\n  {'asset': 'XMR', 'free': '0.00000000', 'locked': '0.00000000'},\n  {'asset': 'EVX', 'free': '0.00000000', 'locked': '0.00000000'},\n  {'asset': 'VIB', 'free': '0.00000000', 'locked': '0.00000000'},\n  {'asset': 'ENJ', 'free': '0.00000000', 'locked': '0.00000000'},\n  {'asset': 'VEN', 'free': '0.00000000', 'locked': '0.00000000'},\n  {'asset': 'ARK', 'free': '0.00000000', 'locked': '0.00000000'},\n  {'asset': 'XRP', 'free': '0.00000001', 'locked': '0.00000000'},\n  {'asset': 'MOD', 'free': '0.00000000', 'locked': '0.00000000'},\n  {'asset': 'STORJ', 'free': '0.00000000', 'locked': '0.00000000'},\n  {'asset': 'KMD', 'free': '0.00000000', 'locked': '0.00000000'},\n  {'asset': 'RCN', 'free': '0.00000000', 'locked': '0.00000000'},\n  {'asset': 'EDO', 'free': '0.00000000', 'locked': '0.00000000'},\n  {'asset': 'DATA', 'free': '0.00000000', 'locked': '0.00000000'},\n  {'asset': 'DLT', 'free': '0.00000000', 'locked': '0.00000000'},\n  {'asset': 'MANA', 'free': '0.00000000', 'locked': '0.00000000'},\n  {'asset': 'PPT', 'free': '0.00000000', 'locked': '0.00000000'},\n  {'asset': 'RDN', 'free': '0.00000000', 'locked': '0.00000000'},\n  {'asset': 'GXS', 'free': '0.00000000', 'locked': '0.00000000'},\n  {'asset': 'AMB', 'free': '0.00000000', 'locked': '0.00000000'},\n  {'asset': 'ARN', 'free': '0.00000000', 'locked': '0.00000000'},\n  {'asset': 'BCPT', 'free': '0.00000000', 'locked': '0.00000000'},\n  {'asset': 'CND', 'free': '0.00000000', 'locked': '0.00000000'},\n  {'asset': 'GVT', 'free': '0.00000000', 'locked': '0.00000000'},\n  {'asset': 'POE', 'free': '0.00000000', 'locked': '0.00000000'},\n  {'asset': 'BTS', 'free': '0.00000000', 'locked': '0.00000000'},\n  {'asset': 'FUEL', 'free': '0.00000000', 'locked': '0.00000000'},\n  {'asset': 'XZC', 'free': '0.00000000', 'locked': '0.00000000'},\n  {'asset': 'QSP', 'free': '0.00000000', 'locked': '0.00000000'},\n  {'asset': 'LSK', 'free': '0.00000000', 'locked': '0.00000000'},\n  {'asset': 'BCD', 'free': '0.00000000', 'locked': '0.00000000'},\n  {'asset': 'TNB', 'free': '0.00000000', 'locked': '0.00000000'},\n  {'asset': 'ADA', 'free': '30.00000000', 'locked': '0.00000000'},\n  {'asset': 'LEND', 'free': '0.00000000', 'locked': '0.00000000'},\n  {'asset': 'XLM', 'free': '0.00000000', 'locked': '0.00000000'},\n  {'asset': 'CMT', 'free': '0.00000000', 'locked': '0.00000000'},\n  {'asset': 'WAVES', 'free': '0.00000000', 'locked': '0.00000000'},\n  {'asset': 'WABI', 'free': '0.00000000', 'locked': '0.00000000'},\n  {'asset': 'GTO', 'free': '0.00000000', 'locked': '0.00000000'},\n  {'asset': 'ICX', 'free': '0.00000000', 'locked': '0.00000000'},\n  {'asset': 'OST', 'free': '0.00000000', 'locked': '0.00000000'},\n  {'asset': 'ELF', 'free': '0.00000000', 'locked': '0.00000000'},\n  {'asset': 'AION', 'free': '0.00000000', 'locked': '0.00000000'},\n  {'asset': 'WINGS', 'free': '0.00000000', 'locked': '0.00000000'},\n  {'asset': 'BRD', 'free': '0.00000000', 'locked': '0.00000000'},\n  {'asset': 'NEBL', 'free': '0.00000000', 'locked': '0.00000000'},\n  {'asset': 'NAV', 'free': '0.00000000', 'locked': '0.00000000'},\n  {'asset': 'VIBE', 'free': '0.00000000', 'locked': '0.00000000'},\n  {'asset': 'LUN', 'free': '0.00000000', 'locked': '0.00000000'},\n  {'asset': 'TRIG', 'free': '0.00000000', 'locked': '0.00000000'},\n  {'asset': 'APPC', 'free': '0.00000000', 'locked': '0.00000000'},\n  {'asset': 'CHAT', 'free': '0.00000000', 'locked': '0.00000000'},\n  {'asset': 'RLC', 'free': '0.00000000', 'locked': '0.00000000'},\n  {'asset': 'INS', 'free': '0.00000000', 'locked': '0.00000000'},\n  {'asset': 'PIVX', 'free': '0.00000000', 'locked': '0.00000000'},\n  {'asset': 'IOST', 'free': '0.00000000', 'locked': '0.00000000'},\n  {'asset': 'STEEM', 'free': '0.00000000', 'locked': '0.00000000'},\n  {'asset': 'NANO', 'free': '0.00000000', 'locked': '0.00000000'},\n  {'asset': 'AE', 'free': '0.00000000', 'locked': '0.00000000'},\n  {'asset': 'VIA', 'free': '0.00000000', 'locked': '0.00000000'},\n  {'asset': 'BLZ', 'free': '0.00000000', 'locked': '0.00000000'},\n  {'asset': 'SYS', 'free': '0.00000000', 'locked': '0.00000000'},\n  {'asset': 'RPX', 'free': '0.00000000', 'locked': '0.00000000'},\n  {'asset': 'NCASH', 'free': '0.00000000', 'locked': '0.00000000'},\n  {'asset': 'POA', 'free': '0.00000000', 'locked': '0.00000000'},\n  {'asset': 'ONT', 'free': '0.00000000', 'locked': '0.00000000'},\n  {'asset': 'ZIL', 'free': '0.00000000', 'locked': '0.00000000'},\n  {'asset': 'STORM', 'free': '0.00000000', 'locked': '0.00000000'},\n  {'asset': 'XEM', 'free': '0.00000000', 'locked': '0.00000000'},\n  {'asset': 'WAN', 'free': '0.00000000', 'locked': '0.00000000'},\n  {'asset': 'WPR', 'free': '0.00000000', 'locked': '0.00000000'},\n  {'asset': 'QLC', 'free': '0.00000000', 'locked': '0.00000000'},\n  {'asset': 'GRS', 'free': '0.00000000', 'locked': '0.00000000'},\n  {'asset': 'CLOAK', 'free': '0.00000000', 'locked': '0.00000000'},\n  {'asset': 'LOOM', 'free': '0.00000000', 'locked': '0.00000000'},\n  {'asset': 'BCN', 'free': '0.00000000', 'locked': '0.00000000'},\n  {'asset': 'TUSD', 'free': '0.00000000', 'locked': '0.00000000'},\n  {'asset': 'ZEN', 'free': '0.00000000', 'locked': '0.00000000'},\n  {'asset': 'SKY', 'free': '0.00000000', 'locked': '0.00000000'},\n  {'asset': 'THETA', 'free': '0.00000000', 'locked': '0.00000000'},\n  {'asset': 'IOTX', 'free': '0.00000000', 'locked': '0.00000000'},\n  {'asset': 'QKC', 'free': '0.00000000', 'locked': '0.00000000'},\n  {'asset': 'AGI', 'free': '0.00000000', 'locked': '0.00000000'},\n  {'asset': 'NXS', 'free': '0.00000000', 'locked': '0.00000000'},\n  {'asset': 'SC', 'free': '0.00000000', 'locked': '0.00000000'},\n  {'asset': 'NPXS', 'free': '0.00000000', 'locked': '0.00000000'},\n  {'asset': 'KEY', 'free': '0.00000000', 'locked': '0.00000000'},\n  {'asset': 'NAS', 'free': '0.00000000', 'locked': '0.00000000'},\n  {'asset': 'MFT', 'free': '0.00000000', 'locked': '0.00000000'},\n  {'asset': 'DENT', 'free': '0.00000000', 'locked': '0.00000000'},\n  {'asset': 'IQ', 'free': '0.00000000', 'locked': '0.00000000'},\n  {'asset': 'ARDR', 'free': '0.00000000', 'locked': '0.00000000'},\n  {'asset': 'HOT', 'free': '0.00000000', 'locked': '0.00000000'},\n  {'asset': 'VET', 'free': '0.00000000', 'locked': '0.00000000'},\n  {'asset': 'DOCK', 'free': '0.00000000', 'locked': '0.00000000'},\n  {'asset': 'POLY', 'free': '0.00000000', 'locked': '0.00000000'},\n  {'asset': 'VTHO', 'free': '0.00000000', 'locked': '0.00000000'},\n  {'asset': 'ONG', 'free': '0.00000000', 'locked': '0.00000000'},\n  {'asset': 'PHX', 'free': '0.00000000', 'locked': '0.00000000'},\n  {'asset': 'HC', 'free': '0.00000000', 'locked': '0.00000000'},\n  {'asset': 'GO', 'free': '0.00000000', 'locked': '0.00000000'},\n  {'asset': 'PAX', 'free': '0.00000000', 'locked': '0.00000000'},\n  {'asset': 'RVN', 'free': '0.00000000', 'locked': '0.00000000'},\n  {'asset': 'DCR', 'free': '0.00000000', 'locked': '0.00000000'},\n  {'asset': 'USDC', 'free': '0.00000000', 'locked': '0.00000000'},\n  {'asset': 'MITH', 'free': '0.00000000', 'locked': '0.00000000'},\n  {'asset': 'BCHABC', 'free': '0.00000000', 'locked': '0.00000000'},\n  {'asset': 'BCHSV', 'free': '0.00000000', 'locked': '0.00000000'},\n  {'asset': 'REN', 'free': '0.00000000', 'locked': '0.00000000'},\n  {'asset': 'BTT', 'free': '0.00000000', 'locked': '0.00000000'},\n  {'asset': 'USDS', 'free': '0.00000000', 'locked': '0.00000000'},\n  {'asset': 'FET', 'free': '0.00000000', 'locked': '0.00000000'},\n  {'asset': 'TFUEL', 'free': '0.00000000', 'locked': '0.00000000'},\n  {'asset': 'CELR', 'free': '0.00000000', 'locked': '0.00000000'},\n  {'asset': 'MATIC', 'free': '26.63576010', 'locked': '0.00000000'},\n  {'asset': 'ATOM', 'free': '0.00000000', 'locked': '0.00000000'},\n  {'asset': 'PHB', 'free': '0.00000000', 'locked': '0.00000000'},\n  {'asset': 'ONE', 'free': '0.00000000', 'locked': '0.00000000'},\n  {'asset': 'FTM', 'free': '0.00000000', 'locked': '0.00000000'},\n  {'asset': 'BTCB', 'free': '0.00000000', 'locked': '0.00000000'},\n  {'asset': 'USDSB', 'free': '0.00000000', 'locked': '0.00000000'},\n  {'asset': 'CHZ', 'free': '0.00000000', 'locked': '0.00000000'},\n  {'asset': 'COS', 'free': '0.00000000', 'locked': '0.00000000'},\n  {'asset': 'ALGO', 'free': '0.00000000', 'locked': '0.00000000'},\n  {'asset': 'ERD', 'free': '0.00000000', 'locked': '0.00000000'},\n  {'asset': 'DOGE', 'free': '103.85100289', 'locked': '0.00000000'},\n  {'asset': 'BGBP', 'free': '0.00000000', 'locked': '0.00000000'},\n  {'asset': 'DUSK', 'free': '0.00000000', 'locked': '0.00000000'},\n  {'asset': 'ANKR', 'free': '0.00000000', 'locked': '0.00000000'},\n  {'asset': 'WIN', 'free': '0.00000000', 'locked': '0.00000000'},\n  {'asset': 'TUSDB', 'free': '0.00000000', 'locked': '0.00000000'},\n  {'asset': 'COCOS', 'free': '0.00000000', 'locked': '0.00000000'},\n  {'asset': 'PERL', 'free': '0.00000000', 'locked': '0.00000000'},\n  {'asset': 'TOMO', 'free': '0.00000000', 'locked': '0.00000000'},\n  {'asset': 'BUSD', 'free': '0.00000000', 'locked': '0.00000000'},\n  {'asset': 'BAND', 'free': '0.00000000', 'locked': '0.00000000'},\n  {'asset': 'BEAM', 'free': '0.00000000', 'locked': '0.00000000'},\n  {'asset': 'HBAR', 'free': '0.00000000', 'locked': '0.00000000'},\n  {'asset': 'XTZ', 'free': '0.00000000', 'locked': '0.00000000'},\n  {'asset': 'NGN', 'free': '0.00000000', 'locked': '0.00000000'},\n  {'asset': 'DGB', 'free': '0.00000000', 'locked': '0.00000000'},\n  {'asset': 'NKN', 'free': '0.00000000', 'locked': '0.00000000'},\n  {'asset': 'GBP', 'free': '0.00000000', 'locked': '0.00000000'},\n  {'asset': 'EUR', 'free': '0.00000000', 'locked': '0.00000000'},\n  {'asset': 'KAVA', 'free': '0.00000000', 'locked': '0.00000000'},\n  {'asset': 'RUB', 'free': '0.00000000', 'locked': '0.00000000'},\n  {'asset': 'UAH', 'free': '0.00000000', 'locked': '0.00000000'},\n  {'asset': 'ARPA', 'free': '0.00000000', 'locked': '0.00000000'},\n  {'asset': 'TRY', 'free': '0.00000000', 'locked': '0.00000000'},\n  {'asset': 'CTXC', 'free': '0.00000000', 'locked': '0.00000000'},\n  {'asset': 'AERGO', 'free': '0.00000000', 'locked': '0.00000000'},\n  {'asset': 'BCH', 'free': '0.00000000', 'locked': '0.00000000'},\n  {'asset': 'TROY', 'free': '0.00000000', 'locked': '0.00000000'},\n  {'asset': 'ARS', 'free': '0.00000000', 'locked': '0.00000000'},\n  {'asset': 'BRL', 'free': '0.00000000', 'locked': '0.00000000'},\n  {'asset': 'VITE', 'free': '0.00000000', 'locked': '0.00000000'},\n  {'asset': 'FTT', 'free': '0.00000000', 'locked': '0.00000000'},\n  {'asset': 'PLN', 'free': '0.00000000', 'locked': '0.00000000'},\n  {'asset': 'RON', 'free': '0.00000000', 'locked': '0.00000000'},\n  {'asset': 'AUD', 'free': '0.00000000', 'locked': '0.00000000'},\n  {'asset': 'OGN', 'free': '0.00000000', 'locked': '0.00000000'},\n  {'asset': 'DREP', 'free': '0.00000000', 'locked': '0.00000000'},\n  {'asset': 'BULL', 'free': '0.00000000', 'locked': '0.00000000'},\n  {'asset': 'BEAR', 'free': '0.00000000', 'locked': '0.00000000'},\n  {'asset': 'ETHBULL', 'free': '0.00000000', 'locked': '0.00000000'},\n  {'asset': 'ETHBEAR', 'free': '0.00000000', 'locked': '0.00000000'},\n  {'asset': 'XRPBULL', 'free': '0.00000000', 'locked': '0.00000000'},\n  {'asset': 'XRPBEAR', 'free': '0.00000000', 'locked': '0.00000000'},\n  {'asset': 'EOSBULL', 'free': '0.00000000', 'locked': '0.00000000'},\n  {'asset': 'EOSBEAR', 'free': '0.00000000', 'locked': '0.00000000'},\n  {'asset': 'TCT', 'free': '0.00000000', 'locked': '0.00000000'},\n  {'asset': 'WRX', 'free': '0.00000000', 'locked': '0.00000000'},\n  {'asset': 'LTO', 'free': '0.00000000', 'locked': '0.00000000'},\n  {'asset': 'ZAR', 'free': '0.00000000', 'locked': '0.00000000'},\n  {'asset': 'MBL', 'free': '0.00000000', 'locked': '0.00000000'},\n  {'asset': 'COTI', 'free': '0.00000000', 'locked': '0.00000000'},\n  {'asset': 'BKRW', 'free': '0.00000000', 'locked': '0.00000000'},\n  {'asset': 'BNBBULL', 'free': '0.00000000', 'locked': '0.00000000'},\n  {'asset': 'BNBBEAR', 'free': '0.00000000', 'locked': '0.00000000'},\n  {'asset': 'HIVE', 'free': '0.00000000', 'locked': '0.00000000'},\n  {'asset': 'STPT', 'free': '0.00000000', 'locked': '0.00000000'},\n  {'asset': 'SOL', 'free': '0.00000000', 'locked': '0.00000000'},\n  {'asset': 'IDRT', 'free': '0.00', 'locked': '0.00'},\n  {'asset': 'CTSI', 'free': '0.00000000', 'locked': '0.00000000'},\n  {'asset': 'CHR', 'free': '0.00000000', 'locked': '0.00000000'},\n  {'asset': 'BTCUP', 'free': '0.00000000', 'locked': '0.00000000'},\n  {'asset': 'BTCDOWN', 'free': '0.00000000', 'locked': '0.00000000'},\n  {'asset': 'HNT', 'free': '0.00000000', 'locked': '0.00000000'},\n  {'asset': 'JST', 'free': '0.00000000', 'locked': '0.00000000'},\n  {'asset': 'FIO', 'free': '0.00000000', 'locked': '0.00000000'},\n  {'asset': 'BIDR', 'free': '0.00', 'locked': '0.00'},\n  {'asset': 'STMX', 'free': '0.00000000', 'locked': '0.00000000'},\n  {'asset': 'MDT', 'free': '0.00000000', 'locked': '0.00000000'},\n  {'asset': 'PNT', 'free': '0.00000000', 'locked': '0.00000000'},\n  {'asset': 'COMP', 'free': '0.00000000', 'locked': '0.00000000'},\n  {'asset': 'IRIS', 'free': '0.00000000', 'locked': '0.00000000'},\n  {'asset': 'MKR', 'free': '0.06881923', 'locked': '0.00000000'},\n  {'asset': 'SXP', 'free': '0.00000000', 'locked': '0.00000000'},\n  {'asset': 'SNX', 'free': '0.00000000', 'locked': '0.00000000'},\n  {'asset': 'DAI', 'free': '0.00000000', 'locked': '0.00000000'},\n  {'asset': 'ETHUP', 'free': '0.00000000', 'locked': '0.00000000'},\n  {'asset': 'ETHDOWN', 'free': '0.00000000', 'locked': '0.00000000'},\n  {'asset': 'ADAUP', 'free': '0.00000000', 'locked': '0.00000000'},\n  {'asset': 'ADADOWN', 'free': '0.00000000', 'locked': '0.00000000'},\n  {'asset': 'LINKUP', 'free': '0.00000000', 'locked': '0.00000000'},\n  {'asset': 'LINKDOWN', 'free': '0.00000000', 'locked': '0.00000000'},\n  {'asset': 'DOT', 'free': '5.40005500', 'locked': '0.00000000'},\n  {'asset': 'RUNE', 'free': '0.00000000', 'locked': '0.00000000'},\n  {'asset': 'BNBUP', 'free': '0.00000000', 'locked': '0.00000000'},\n  {'asset': 'BNBDOWN', 'free': '0.00000000', 'locked': '0.00000000'},\n  {'asset': 'XTZUP', 'free': '0.00000000', 'locked': '0.00000000'},\n  {'asset': 'XTZDOWN', 'free': '0.00000000', 'locked': '0.00000000'},\n  {'asset': 'AVA', 'free': '0.00000000', 'locked': '0.00000000'},\n  {'asset': 'BAL', 'free': '0.00000000', 'locked': '0.00000000'},\n  {'asset': 'YFI', 'free': '0.00000000', 'locked': '0.00000000'},\n  {'asset': 'SRM', 'free': '0.00000000', 'locked': '0.00000000'},\n  {'asset': 'ANT', 'free': '0.00000000', 'locked': '0.00000000'},\n  {'asset': 'CRV', 'free': '0.00000000', 'locked': '0.00000000'},\n  {'asset': 'SAND', 'free': '0.00000000', 'locked': '0.00000000'},\n  {'asset': 'OCEAN', 'free': '0.00000000', 'locked': '0.00000000'},\n  {'asset': 'NMR', 'free': '0.00000000', 'locked': '0.00000000'},\n  {'asset': 'LUNA', 'free': '0.00000000', 'locked': '0.00000000'},\n  {'asset': 'IDEX', 'free': '0.00000000', 'locked': '0.00000000'},\n  {'asset': 'RSR', 'free': '0.00000000', 'locked': '0.00000000'},\n  {'asset': 'PAXG', 'free': '0.00000000', 'locked': '0.00000000'},\n  {'asset': 'WNXM', 'free': '0.00000000', 'locked': '0.00000000'},\n  {'asset': 'TRB', 'free': '0.00000000', 'locked': '0.00000000'},\n  {'asset': 'EGLD', 'free': '0.00000000', 'locked': '0.00000000'},\n  {'asset': 'BZRX', 'free': '0.00000000', 'locked': '0.00000000'},\n  {'asset': 'WBTC', 'free': '0.00000000', 'locked': '0.00000000'},\n  {'asset': 'KSM', 'free': '0.00000000', 'locked': '0.00000000'},\n  {'asset': 'SUSHI', 'free': '0.00000000', 'locked': '0.00000000'},\n  {'asset': 'YFII', 'free': '0.00000000', 'locked': '0.00000000'},\n  {'asset': 'DIA', 'free': '0.00000000', 'locked': '0.00000000'},\n  {'asset': 'BEL', 'free': '0.00000000', 'locked': '0.00000000'},\n  {'asset': 'UMA', 'free': '0.00000000', 'locked': '0.00000000'},\n  {'asset': 'EOSUP', 'free': '0.00000000', 'locked': '0.00000000'},\n  {'asset': 'TRXUP', 'free': '0.00000000', 'locked': '0.00000000'},\n  {'asset': 'EOSDOWN', 'free': '0.00000000', 'locked': '0.00000000'},\n  {'asset': 'TRXDOWN', 'free': '0.00000000', 'locked': '0.00000000'},\n  {'asset': 'XRPUP', 'free': '0.00000000', 'locked': '0.00000000'},\n  {'asset': 'XRPDOWN', 'free': '0.00000000', 'locked': '0.00000000'},\n  {'asset': 'DOTUP', 'free': '0.00000000', 'locked': '0.00000000'},\n  {'asset': 'DOTDOWN', 'free': '0.00000000', 'locked': '0.00000000'},\n  {'asset': 'NBS', 'free': '0.00000000', 'locked': '0.00000000'},\n  {'asset': 'WING', 'free': '0.00000000', 'locked': '0.00000000'},\n  {'asset': 'SWRV', 'free': '0.00000000', 'locked': '0.00000000'},\n  {'asset': 'LTCUP', 'free': '0.00000000', 'locked': '0.00000000'},\n  {'asset': 'LTCDOWN', 'free': '0.00000000', 'locked': '0.00000000'},\n  {'asset': 'CREAM', 'free': '0.00000000', 'locked': '0.00000000'},\n  {'asset': 'UNI', 'free': '0.00000000', 'locked': '0.00000000'},\n  {'asset': 'OXT', 'free': '0.00000000', 'locked': '0.00000000'},\n  {'asset': 'SUN', 'free': '0.00000000', 'locked': '0.00000000'},\n  {'asset': 'AVAX', 'free': '0.00000000', 'locked': '0.00000000'},\n  {'asset': 'BURGER', 'free': '0.00000000', 'locked': '0.00000000'},\n  {'asset': 'BAKE', 'free': '0.00000000', 'locked': '0.00000000'},\n  {'asset': 'FLM', 'free': '0.00000000', 'locked': '0.00000000'},\n  {'asset': 'SCRT', 'free': '0.00000000', 'locked': '0.00000000'},\n  {'asset': 'XVS', 'free': '0.00000000', 'locked': '0.00000000'},\n  {'asset': 'CAKE', 'free': '0.00000000', 'locked': '0.00000000'},\n  {'asset': 'SPARTA', 'free': '0.00000000', 'locked': '0.00000000'},\n  {'asset': 'UNIUP', 'free': '0.00000000', 'locked': '0.00000000'},\n  {'asset': 'UNIDOWN', 'free': '0.00000000', 'locked': '0.00000000'},\n  {'asset': 'ALPHA', 'free': '0.00000000', 'locked': '0.00000000'},\n  {'asset': 'ORN', 'free': '0.00000000', 'locked': '0.00000000'},\n  {'asset': 'UTK', 'free': '0.00000000', 'locked': '0.00000000'},\n  {'asset': 'NEAR', 'free': '0.00000000', 'locked': '0.00000000'},\n  {'asset': 'VIDT', 'free': '0.00000000', 'locked': '0.00000000'},\n  {'asset': 'AAVE', 'free': '0.00000000', 'locked': '0.00000000'},\n  {'asset': 'FIL', 'free': '0.00000000', 'locked': '0.00000000'},\n  {'asset': 'SXPUP', 'free': '0.00000000', 'locked': '0.00000000'},\n  {'asset': 'SXPDOWN', 'free': '0.00000000', 'locked': '0.00000000'},\n  {'asset': 'INJ', 'free': '0.00000000', 'locked': '0.00000000'},\n  {'asset': 'FILDOWN', 'free': '0.00000000', 'locked': '0.00000000'},\n  {'asset': 'FILUP', 'free': '0.00000000', 'locked': '0.00000000'},\n  {'asset': 'YFIUP', 'free': '0.00000000', 'locked': '0.00000000'},\n  {'asset': 'YFIDOWN', 'free': '0.00000000', 'locked': '0.00000000'},\n  {'asset': 'CTK', 'free': '0.00000000', 'locked': '0.00000000'},\n  {'asset': 'EASY', 'free': '0.00000000', 'locked': '0.00000000'},\n  {'asset': 'AUDIO', 'free': '0.00000000', 'locked': '0.00000000'},\n  {'asset': 'BCHUP', 'free': '0.00000000', 'locked': '0.00000000'},\n  {'asset': 'BCHDOWN', 'free': '0.00000000', 'locked': '0.00000000'},\n  {'asset': 'BOT', 'free': '0.00000000', 'locked': '0.00000000'},\n  {'asset': 'AXS', 'free': '0.00000000', 'locked': '0.00000000'},\n  {'asset': 'AKRO', 'free': '0.00000000', 'locked': '0.00000000'},\n  {'asset': 'HARD', 'free': '0.00000000', 'locked': '0.00000000'},\n  {'asset': 'KP3R', 'free': '0.00000000', 'locked': '0.00000000'},\n  {'asset': 'RENBTC', 'free': '0.00000000', 'locked': '0.00000000'},\n  {'asset': 'SLP', 'free': '0.00000000', 'locked': '0.00000000'},\n  {'asset': 'STRAX', 'free': '0.00000000', 'locked': '0.00000000'},\n  {'asset': 'UNFI', 'free': '0.00000000', 'locked': '0.00000000'},\n  {'asset': 'CVP', 'free': '0.00000000', 'locked': '0.00000000'},\n  {'asset': 'BCHA', 'free': '0.00000000', 'locked': '0.00000000'},\n  {'asset': 'FOR', 'free': '0.00000000', 'locked': '0.00000000'},\n  {'asset': 'FRONT', 'free': '0.00000000', 'locked': '0.00000000'},\n  {'asset': 'ROSE', 'free': '0.00000000', 'locked': '0.00000000'},\n  {'asset': 'MDX', 'free': '0.00000000', 'locked': '0.00000000'},\n  {'asset': 'HEGIC', 'free': '0.00000000', 'locked': '0.00000000'},\n  {'asset': 'AAVEUP', 'free': '0.00000000', 'locked': '0.00000000'},\n  {'asset': 'AAVEDOWN', 'free': '0.00000000', 'locked': '0.00000000'},\n  {'asset': 'PROM', 'free': '0.00000000', 'locked': '0.00000000'},\n  {'asset': 'BETH', 'free': '0.11106197', 'locked': '0.00000000'},\n  {'asset': 'SKL', 'free': '0.00000000', 'locked': '0.00000000'},\n  {'asset': 'GLM', 'free': '0.00000000', 'locked': '0.00000000'},\n  {'asset': 'SUSD', 'free': '0.00000000', 'locked': '0.00000000'},\n  {'asset': 'COVER', 'free': '0.00000000', 'locked': '0.00000000'},\n  {'asset': 'GHST', 'free': '0.00000000', 'locked': '0.00000000'},\n  {'asset': 'SUSHIUP', 'free': '0.00000000', 'locked': '0.00000000'},\n  {'asset': 'SUSHIDOWN', 'free': '0.00000000', 'locked': '0.00000000'},\n  {'asset': 'XLMUP', 'free': '0.00000000', 'locked': '0.00000000'},\n  {'asset': 'XLMDOWN', 'free': '0.00000000', 'locked': '0.00000000'},\n  {'asset': 'DF', 'free': '0.00000000', 'locked': '0.00000000'},\n  {'asset': 'JUV', 'free': '0.00000000', 'locked': '0.00000000'},\n  {'asset': 'PSG', 'free': '0.00000000', 'locked': '0.00000000'},\n  {'asset': 'BVND', 'free': '0.00', 'locked': '0.00'},\n  {'asset': 'GRT', 'free': '0.00000000', 'locked': '0.00000000'},\n  {'asset': 'CELO', 'free': '0.00000000', 'locked': '0.00000000'},\n  {'asset': 'TWT', 'free': '0.00000000', 'locked': '0.00000000'},\n  {'asset': 'REEF', 'free': '0.00000000', 'locked': '0.00000000'},\n  {'asset': 'OG', 'free': '0.00000000', 'locked': '0.00000000'},\n  {'asset': 'ATM', 'free': '0.00000000', 'locked': '0.00000000'},\n  {'asset': 'ASR', 'free': '0.00000000', 'locked': '0.00000000'},\n  {'asset': '1INCH', 'free': '0.00000000', 'locked': '0.00000000'},\n  {'asset': 'RIF', 'free': '0.00000000', 'locked': '0.00000000'},\n  {'asset': 'BTCST', 'free': '0.00000000', 'locked': '0.00000000'},\n  {'asset': 'TRU', 'free': '0.00000000', 'locked': '0.00000000'},\n  {'asset': 'DEXE', 'free': '0.00000000', 'locked': '0.00000000'},\n  {'asset': 'CKB', 'free': '0.00000000', 'locked': '0.00000000'},\n  {'asset': 'FIRO', 'free': '0.00000000', 'locked': '0.00000000'},\n  {'asset': 'LIT', 'free': '0.00000000', 'locked': '0.00000000'},\n  {'asset': 'PROS', 'free': '0.00000000', 'locked': '0.00000000'},\n  {'asset': 'VAI', 'free': '0.00000000', 'locked': '0.00000000'},\n  {'asset': 'SFP', 'free': '0.00000000', 'locked': '0.00000000'},\n  {'asset': 'FXS', 'free': '0.00000000', 'locked': '0.00000000'},\n  {'asset': 'DODO', 'free': '0.00000000', 'locked': '0.00000000'},\n  {'asset': 'AUCTION', 'free': '0.00000000', 'locked': '0.00000000'},\n  {'asset': 'UFT', 'free': '0.00000000', 'locked': '0.00000000'},\n  {'asset': 'ACM', 'free': '0.00000000', 'locked': '0.00000000'},\n  {'asset': 'PHA', 'free': '0.00000000', 'locked': '0.00000000'},\n  {'asset': 'TVK', 'free': '0.00000000', 'locked': '0.00000000'},\n  {'asset': 'BADGER', 'free': '0.00000000', 'locked': '0.00000000'},\n  {'asset': 'FIS', 'free': '0.00000000', 'locked': '0.00000000'},\n  {'asset': 'QI', 'free': '0.00000000', 'locked': '0.00000000'},\n  {'asset': 'OM', 'free': '0.00000000', 'locked': '0.00000000'},\n  {'asset': 'POND', 'free': '0.00000000', 'locked': '0.00000000'},\n  {'asset': 'ALICE', 'free': '0.00000000', 'locked': '0.00000000'},\n  {'asset': 'DEGO', 'free': '0.00000000', 'locked': '0.00000000'},\n  {'asset': 'BIFI', 'free': '0.00000000', 'locked': '0.00000000'},\n  {'asset': 'LINA', 'free': '0.00000000', 'locked': '0.00000000'},\n  {'asset': 'PERP', 'free': '0.00000000', 'locked': '0.00000000'},\n  {'asset': 'RAMP', 'free': '0.00000000', 'locked': '0.00000000'},\n  {'asset': 'SUPER', 'free': '0.00000000', 'locked': '0.00000000'},\n  {'asset': 'CFX', 'free': '0.00000000', 'locked': '0.00000000'},\n  {'asset': 'TKO', 'free': '0.00000000', 'locked': '0.00000000'},\n  {'asset': 'AUTO', 'free': '0.00000000', 'locked': '0.00000000'},\n  {'asset': 'EPS', 'free': '0.00000000', 'locked': '0.00000000'},\n  {'asset': 'PUNDIX', 'free': '0.00000000', 'locked': '0.00000000'},\n  {'asset': 'TLM', 'free': '0.75417620', 'locked': '0.00000000'},\n  {'asset': '1INCHUP', 'free': '0.00000000', 'locked': '0.00000000'},\n  {'asset': '1INCHDOWN', 'free': '0.00000000', 'locked': '0.00000000'},\n  {'asset': 'MIR', 'free': '0.00000000', 'locked': '0.00000000'},\n  {'asset': 'BAR', 'free': '0.00000000', 'locked': '0.00000000'},\n  {'asset': 'FORTH', 'free': '0.00000000', 'locked': '0.00000000'},\n  {'asset': 'EZ', 'free': '0.00000000', 'locked': '0.00000000'},\n  {'asset': 'AR', 'free': '0.00000000', 'locked': '0.00000000'},\n  {'asset': 'ICP', 'free': '0.00000000', 'locked': '0.00000000'},\n  {'asset': 'SHIB', 'free': '729825.21', 'locked': '1456876.00'},\n  {'asset': 'POLS', 'free': '0.00000000', 'locked': '0.00000000'},\n  {'asset': 'MASK', 'free': '0.00000000', 'locked': '0.00000000'},\n  {'asset': 'LPT', 'free': '0.00000000', 'locked': '0.00000000'},\n  {'asset': 'AGIX', 'free': '0.00000000', 'locked': '0.00000000'},\n  {'asset': 'ATA', 'free': '0.00000000', 'locked': '0.00000000'},\n  {'asset': 'NU', 'free': '0.00000000', 'locked': '0.00000000'},\n  {'asset': 'GTC', 'free': '0.00000000', 'locked': '0.00000000'},\n  {'asset': 'KLAY', 'free': '0.00000000', 'locked': '0.00000000'},\n  {'asset': 'TORN', 'free': '0.00000000', 'locked': '0.00000000'},\n  {'asset': 'KEEP', 'free': '0.00000000', 'locked': '0.00000000'},\n  {'asset': 'ERN', 'free': '0.00000000', 'locked': '0.00000000'},\n  {'asset': 'BOND', 'free': '0.00000000', 'locked': '0.00000000'},\n  {'asset': 'MLN', 'free': '0.00000000', 'locked': '0.00000000'},\n  {'asset': 'C98', 'free': '0.00000000', 'locked': '0.00000000'},\n  {'asset': 'FLOW', 'free': '0.00000000', 'locked': '0.00000000'},\n  {'asset': 'QUICK', 'free': '0.00000000', 'locked': '0.00000000'},\n  {'asset': 'RAY', 'free': '0.00000000', 'locked': '0.00000000'},\n  {'asset': 'MINA', 'free': '0.00000000', 'locked': '0.00000000'},\n  {'asset': 'QNT', 'free': '0.00000000', 'locked': '0.00000000'},\n  {'asset': 'CLV', 'free': '0.00000000', 'locked': '0.00000000'},\n  {'asset': 'XEC', 'free': '0.00', 'locked': '0.00'},\n  {'asset': 'ALPACA', 'free': '0.00000000', 'locked': '0.00000000'},\n  {'asset': 'FARM', 'free': '0.00000000', 'locked': '0.00000000'},\n  {'asset': 'VGX', 'free': '0.00000000', 'locked': '0.00000000'},\n  {'asset': 'MBOX', 'free': '0.00000000', 'locked': '0.00000000'},\n  {'asset': 'WAXP', 'free': '0.00000000', 'locked': '0.00000000'},\n  {'asset': 'TRIBE', 'free': '0.00000000', 'locked': '0.00000000'},\n  {'asset': 'GNO', 'free': '0.00000000', 'locked': '0.00000000'},\n  {'asset': 'USDP', 'free': '0.00000000', 'locked': '0.00000000'},\n  {'asset': 'DYDX', 'free': '0.00000000', 'locked': '0.00000000'},\n  {'asset': 'GALA', 'free': '0.00000000', 'locked': '0.00000000'},\n  {'asset': 'ILV', 'free': '0.00000000', 'locked': '0.00000000'},\n  {'asset': 'YGG', 'free': '0.00000000', 'locked': '0.00000000'},\n  {'asset': 'FIDA', 'free': '0.00000000', 'locked': '0.00000000'},\n  {'asset': 'AGLD', 'free': '0.00000000', 'locked': '0.00000000'},\n  {'asset': 'BETA', 'free': '0.00000000', 'locked': '0.00000000'},\n  {'asset': 'RAD', 'free': '0.00000000', 'locked': '0.00000000'},\n  {'asset': 'RARE', 'free': '0.00000000', 'locked': '0.00000000'},\n  {'asset': 'SSV', 'free': '0.00000000', 'locked': '0.00000000'},\n  {'asset': 'LAZIO', 'free': '0.00000000', 'locked': '0.00000000'},\n  {'asset': 'MOVR', 'free': '0.00000000', 'locked': '0.00000000'},\n  {'asset': 'CHESS', 'free': '0.00000000', 'locked': '0.00000000'},\n  {'asset': 'DAR', 'free': '0.00000000', 'locked': '0.00000000'},\n  {'asset': 'ACA', 'free': '0.00000000', 'locked': '0.00000000'},\n  {'asset': 'ASTR', 'free': '0.00000000', 'locked': '0.00000000'},\n  {'asset': 'BNX', 'free': '0.00000000', 'locked': '0.00000000'},\n  {'asset': 'RGT', 'free': '0.00000000', 'locked': '0.00000000'},\n  {'asset': 'CITY', 'free': '0.00000000', 'locked': '0.00000000'},\n  {'asset': 'ENS', 'free': '0.00000000', 'locked': '0.00000000'},\n  {'asset': 'PORTO', 'free': '0.00000000', 'locked': '0.00000000'},\n  {'asset': 'JASMY', 'free': '0.00000000', 'locked': '0.00000000'},\n  {'asset': 'AMP', 'free': '0.00000000', 'locked': '0.00000000'},\n  {'asset': 'PLA', 'free': '0.00000000', 'locked': '0.00000000'},\n  {'asset': 'PYR', 'free': '0.00000000', 'locked': '0.00000000'},\n  {'asset': 'SANTOS', 'free': '0.00000000', 'locked': '0.00000000'},\n  {'asset': 'RNDR', 'free': '0.00000000', 'locked': '0.00000000'},\n  {'asset': 'ALCX', 'free': '0.00000000', 'locked': '0.00000000'},\n  {'asset': 'MC', 'free': '0.00000000', 'locked': '0.00000000'},\n  {'asset': 'ANY', 'free': '0.00000000', 'locked': '0.00000000'},\n  {'asset': 'VOXEL', 'free': '0.00000000', 'locked': '0.00000000'},\n  {'asset': 'BICO', 'free': '0.00000000', 'locked': '0.00000000'},\n  {'asset': 'FLUX', 'free': '0.00000000', 'locked': '0.00000000'},\n  {'asset': 'UST', 'free': '0.00000000', 'locked': '0.00000000'},\n  {'asset': 'HIGH', 'free': '0.00000000', 'locked': '0.00000000'},\n  {'asset': 'OOKI', 'free': '0.00000000', 'locked': '0.00000000'},\n  {'asset': 'CVX', 'free': '0.00000000', 'locked': '0.00000000'},\n  {'asset': 'PEOPLE', 'free': '0.00000000', 'locked': '0.00000000'},\n  {'asset': 'SPELL', 'free': '0.00000000', 'locked': '0.00000000'},\n  {'asset': 'JOE', 'free': '0.00000000', 'locked': '0.00000000'},\n  {'asset': 'BDOT', 'free': '0.00000000', 'locked': '0.00000000'},\n  {'asset': 'GLMR', 'free': '0.00000000', 'locked': '0.00000000'},\n  {'asset': 'ACH', 'free': '0.00000000', 'locked': '0.00000000'},\n  {'asset': 'IMX', 'free': '0.00000000', 'locked': '0.00000000'},\n  {'asset': 'LOKA', 'free': '0.00000000', 'locked': '0.00000000'},\n  {'asset': 'BTTC', 'free': '0.0', 'locked': '0.0'},\n  {'asset': 'SOLO', 'free': '0.45865000', 'locked': '0.00000000'},\n  {'asset': 'ANC', 'free': '0.00000000', 'locked': '0.00000000'},\n  {'asset': 'API3', 'free': '0.00000000', 'locked': '0.00000000'},\n  {'asset': 'XNO', 'free': '0.00000000', 'locked': '0.00000000'},\n  {'asset': 'WOO', 'free': '0.00000000', 'locked': '0.00000000'},\n  {'asset': 'ALPINE', 'free': '0.00000000', 'locked': '0.00000000'},\n  {'asset': 'T', 'free': '0.00000000', 'locked': '0.00000000'},\n  {'asset': 'NBT', 'free': '0.00000000', 'locked': '0.00000000'},\n  {'asset': 'KDA', 'free': '0.00000000', 'locked': '0.00000000'},\n  {'asset': 'APE', 'free': '0.00000000', 'locked': '0.00000000'},\n  {'asset': 'GMT', 'free': '21.50000000', 'locked': '0.00000000'},\n  {'asset': 'MOB', 'free': '0.00000000', 'locked': '0.00000000'},\n  {'asset': 'BSW', 'free': '0.00000000', 'locked': '0.00000000'},\n  {'asset': 'MULTI', 'free': '0.00000000', 'locked': '0.00000000'},\n  {'asset': 'REI', 'free': '0.00000000', 'locked': '0.00000000'},\n  {'asset': 'GAL', 'free': '0.00000000', 'locked': '0.00000000'},\n  {'asset': 'NEXO', 'free': '0.00000000', 'locked': '0.00000000'},\n  {'asset': 'EPX', 'free': '0.00000000', 'locked': '0.00000000'},\n  {'asset': 'LDO', 'free': '0.00000000', 'locked': '0.00000000'},\n  {'asset': 'USTC', 'free': '0.00000000', 'locked': '0.00000000'},\n  {'asset': 'LUNC', 'free': '0.00000000', 'locked': '0.00000000'},\n  {'asset': 'OP', 'free': '0.00000000', 'locked': '0.00000000'},\n  {'asset': 'LEVER', 'free': '0.00000000', 'locked': '0.00000000'},\n  {'asset': 'STG', 'free': '0.00000000', 'locked': '0.00000000'},\n  {'asset': 'POLYX', 'free': '0.00000000', 'locked': '0.00000000'},\n  {'asset': 'ETHW', 'free': '0.05290000', 'locked': '0.00000000'},\n  {'asset': 'GMX', 'free': '0.00000000', 'locked': '0.00000000'},\n  {'asset': 'APT', 'free': '0.00000000', 'locked': '0.00000000'},\n  {'asset': 'OSMO', 'free': '0.00000000', 'locked': '0.00000000'},\n  {'asset': 'HFT', 'free': '0.00000000', 'locked': '0.00000000'},\n  {'asset': 'HOOK', 'free': '0.00000000', 'locked': '0.00000000'},\n  {'asset': 'MAGIC', 'free': '0.00000000', 'locked': '0.00000000'},\n  {'asset': 'HIFI', 'free': '0.00000000', 'locked': '0.00000000'},\n  {'asset': 'RPL', 'free': '0.00000000', 'locked': '0.00000000'},\n  {'asset': 'GFT', 'free': '0.00000000', 'locked': '0.00000000'},\n  {'asset': 'GNS', 'free': '0.00000000', 'locked': '0.00000000'},\n  {'asset': 'SYN', 'free': '0.00000000', 'locked': '0.00000000'},\n  {'asset': 'LQTY', 'free': '0.00000000', 'locked': '0.00000000'},\n  {'asset': 'ID', 'free': '0.00000000', 'locked': '0.00000000'},\n  {'asset': 'ARB', 'free': '0.00000000', 'locked': '0.00000000'},\n  {'asset': 'RDNT', 'free': '0.00000000', 'locked': '0.00000000'},\n  {'asset': 'EDU', 'free': '0.00000000', 'locked': '0.00000000'},\n  {'asset': 'WBETH', 'free': '0.00000000', 'locked': '0.00000000'},\n  {'asset': 'SUI', 'free': '0.00000000', 'locked': '0.00000000'},\n  {'asset': 'PEPE', 'free': '16493142.65', 'locked': '0.00'},\n  {'asset': 'FLOKI', 'free': '0.00', 'locked': '0.00'},\n  {'asset': 'COMBO', 'free': '0.00000000', 'locked': '0.00000000'}],\n 'permissions': ['SPOT']}"
     },
     "execution_count": 3,
     "metadata": {},
     "output_type": "execute_result"
    }
   ],
   "source": [
    "import time\n",
    "from types import FunctionType\n",
    "\n",
    "class RateLimited(type):\n",
    "    def __new__(cls, name, bases, attrs):\n",
    "        # Rate limit all methods in the class\n",
    "        for attr_name, attr_value in attrs.items():\n",
    "            if isinstance(attr_value, FunctionType):\n",
    "                attrs[attr_name] = cls.rate_limit(attr_value)\n",
    "        return super().__new__(cls, name, bases, attrs)\n",
    "\n",
    "    @staticmethod\n",
    "    def rate_limit(function):\n",
    "        # This is the actual rate limiting logic\n",
    "        calls = []\n",
    "        max_calls_per_minute = 10\n",
    "\n",
    "        def rate_limited_function(*args, **kwargs):\n",
    "            # Remove timestamps older than 1 minute\n",
    "            one_minute_ago = time.time() - 60\n",
    "            calls[:] = [call for call in calls if call > one_minute_ago]\n",
    "\n",
    "            # If rate limit has been reached, wait until we can make a new request\n",
    "            if len(calls) >= max_calls_per_minute:\n",
    "                time_to_wait = 60 - (time.time() - calls[0])\n",
    "                if time_to_wait > 0:\n",
    "                    time.sleep(time_to_wait)\n",
    "                calls.pop(0)  # remove this timestamp, we've waited long enough\n",
    "\n",
    "            calls.append(time.time())\n",
    "            return function(*args, **kwargs)\n",
    "\n",
    "        return rate_limited_function\n",
    "\n",
    "class Foo(metaclass=RateLimited):"
   ],
   "metadata": {
    "collapsed": false
   }
  },
  {
   "cell_type": "code",
   "execution_count": 19,
   "outputs": [
    {
     "name": "stdout",
     "output_type": "stream",
     "text": [
      "btc_balance=0.00292898\n",
      "usdt_balance=0.0\n"
     ]
    }
   ],
   "source": [
    "import pandas as pd\n",
    "\n",
    "balances_df = pd.DataFrame(acc_info['balances'])\n",
    "btc_balance = float(balances_df[balances_df['asset'] == 'BTC']['free'].item())\n",
    "usdt_balance = float(balances_df[balances_df['asset'] == 'USDT']['free'].item())\n",
    "print(f'{btc_balance=}')\n",
    "print(f'{usdt_balance=}')"
   ],
   "metadata": {
    "collapsed": false
   }
  },
  {
   "cell_type": "code",
   "execution_count": 13,
   "outputs": [
    {
     "data": {
      "text/plain": "   asset        free      locked\n11  USDT  0.00000000  0.00000000",
      "text/html": "<div>\n<style scoped>\n    .dataframe tbody tr th:only-of-type {\n        vertical-align: middle;\n    }\n\n    .dataframe tbody tr th {\n        vertical-align: top;\n    }\n\n    .dataframe thead th {\n        text-align: right;\n    }\n</style>\n<table border=\"1\" class=\"dataframe\">\n  <thead>\n    <tr style=\"text-align: right;\">\n      <th></th>\n      <th>asset</th>\n      <th>free</th>\n      <th>locked</th>\n    </tr>\n  </thead>\n  <tbody>\n    <tr>\n      <th>11</th>\n      <td>USDT</td>\n      <td>0.00000000</td>\n      <td>0.00000000</td>\n    </tr>\n  </tbody>\n</table>\n</div>"
     },
     "execution_count": 13,
     "metadata": {},
     "output_type": "execute_result"
    }
   ],
   "source": [
    "usdt_balance"
   ],
   "metadata": {
    "collapsed": false
   }
  },
  {
   "cell_type": "code",
   "execution_count": 26,
   "outputs": [
    {
     "name": "stdout",
     "output_type": "stream",
     "text": [
      "price: 26436.92\n",
      "volume: 9.83152999999999\n",
      "price: 26437.28\n",
      "volume: 25.457360000000037\n",
      "price: 26431.55\n",
      "volume: 18.357809999999983\n"
     ]
    },
    {
     "ename": "KeyboardInterrupt",
     "evalue": "",
     "output_type": "error",
     "traceback": [
      "\u001B[0;31m---------------------------------------------------------------------------\u001B[0m",
      "\u001B[0;31mKeyboardInterrupt\u001B[0m                         Traceback (most recent call last)",
      "Cell \u001B[0;32mIn[26], line 15\u001B[0m\n\u001B[1;32m     13\u001B[0m \u001B[38;5;28;01mwhile\u001B[39;00m \u001B[38;5;28;01mTrue\u001B[39;00m:\n\u001B[1;32m     14\u001B[0m     schedule\u001B[38;5;241m.\u001B[39mrun_pending()\n\u001B[0;32m---> 15\u001B[0m     \u001B[43mtime\u001B[49m\u001B[38;5;241;43m.\u001B[39;49m\u001B[43msleep\u001B[49m\u001B[43m(\u001B[49m\u001B[38;5;241;43m1\u001B[39;49m\u001B[43m)\u001B[49m\n",
      "\u001B[0;31mKeyboardInterrupt\u001B[0m: "
     ]
    }
   ],
   "source": [
    "import schedule\n",
    "import time\n",
    "\n",
    "def get_latest_price_volume():\n",
    "    trades = api.get_latest_trades('BTCUSDT')\n",
    "    price = [float(t['p']) for t in trades][-1]\n",
    "    volume = sum([float(t['q']) for t in trades])\n",
    "    print('price:', price)\n",
    "    print('volume:', volume)\n",
    "\n",
    "schedule.every().minute.at(\":00\").do(get_latest_price_volume)\n",
    "\n",
    "while True:\n",
    "    schedule.run_pending()\n",
    "    time.sleep(1)"
   ],
   "metadata": {
    "collapsed": false
   }
  },
  {
   "cell_type": "code",
   "execution_count": 25,
   "outputs": [
    {
     "name": "stdout",
     "output_type": "stream",
     "text": [
      "Collecting schedule\r\n",
      "  Downloading schedule-1.2.0-py2.py3-none-any.whl (11 kB)\r\n",
      "Installing collected packages: schedule\r\n",
      "Successfully installed schedule-1.2.0\r\n"
     ]
    }
   ],
   "source": [
    "#TODO: download missing historical data\n",
    "#TODO: append latest data\n",
    "#TODO: compute current state\n",
    "#TODO: get current balance and position\n",
    "#TODO: get model prediction\n",
    "#TODO: submit order\n",
    "class TradingAgent:\n",
    "    def __init__(self, api_key, api_secret):\n",
    "        self.api = BinanceAPI(api_key, api_secret)\n",
    "\n",
    "\n",
    "TradingAgent(mock_key, mock_secret)"
   ],
   "metadata": {
    "collapsed": false
   }
  },
  {
   "cell_type": "code",
   "execution_count": 27,
   "outputs": [
    {
     "data": {
      "text/plain": "                         volume         price          vwap\ntimestamp                                                  \n2017-08-17 04:01:00    1.775183   4261.480000   4261.480000\n2017-08-17 04:02:00    0.000000   4261.480000   4261.480000\n2017-08-17 04:03:00    0.261074   4280.560000   4263.926298\n2017-08-17 04:04:00    0.012008   4261.480000   4263.911957\n2017-08-17 04:05:00    0.140796   4261.480000   4263.755538\n...                         ...           ...           ...\n2022-12-08 05:57:00  140.372990  16822.509019  16831.999490\n2022-12-08 05:58:00  135.652550  16823.593779  16831.976833\n2022-12-08 05:59:00  106.761210  16823.667239  16831.959242\n2022-12-08 06:00:00  160.929330  16820.593849  16831.923092\n2022-12-08 06:01:00  311.577950  16812.328981  16831.803163\n\n[2792281 rows x 3 columns]",
      "text/html": "<div>\n<style scoped>\n    .dataframe tbody tr th:only-of-type {\n        vertical-align: middle;\n    }\n\n    .dataframe tbody tr th {\n        vertical-align: top;\n    }\n\n    .dataframe thead th {\n        text-align: right;\n    }\n</style>\n<table border=\"1\" class=\"dataframe\">\n  <thead>\n    <tr style=\"text-align: right;\">\n      <th></th>\n      <th>volume</th>\n      <th>price</th>\n      <th>vwap</th>\n    </tr>\n    <tr>\n      <th>timestamp</th>\n      <th></th>\n      <th></th>\n      <th></th>\n    </tr>\n  </thead>\n  <tbody>\n    <tr>\n      <th>2017-08-17 04:01:00</th>\n      <td>1.775183</td>\n      <td>4261.480000</td>\n      <td>4261.480000</td>\n    </tr>\n    <tr>\n      <th>2017-08-17 04:02:00</th>\n      <td>0.000000</td>\n      <td>4261.480000</td>\n      <td>4261.480000</td>\n    </tr>\n    <tr>\n      <th>2017-08-17 04:03:00</th>\n      <td>0.261074</td>\n      <td>4280.560000</td>\n      <td>4263.926298</td>\n    </tr>\n    <tr>\n      <th>2017-08-17 04:04:00</th>\n      <td>0.012008</td>\n      <td>4261.480000</td>\n      <td>4263.911957</td>\n    </tr>\n    <tr>\n      <th>2017-08-17 04:05:00</th>\n      <td>0.140796</td>\n      <td>4261.480000</td>\n      <td>4263.755538</td>\n    </tr>\n    <tr>\n      <th>...</th>\n      <td>...</td>\n      <td>...</td>\n      <td>...</td>\n    </tr>\n    <tr>\n      <th>2022-12-08 05:57:00</th>\n      <td>140.372990</td>\n      <td>16822.509019</td>\n      <td>16831.999490</td>\n    </tr>\n    <tr>\n      <th>2022-12-08 05:58:00</th>\n      <td>135.652550</td>\n      <td>16823.593779</td>\n      <td>16831.976833</td>\n    </tr>\n    <tr>\n      <th>2022-12-08 05:59:00</th>\n      <td>106.761210</td>\n      <td>16823.667239</td>\n      <td>16831.959242</td>\n    </tr>\n    <tr>\n      <th>2022-12-08 06:00:00</th>\n      <td>160.929330</td>\n      <td>16820.593849</td>\n      <td>16831.923092</td>\n    </tr>\n    <tr>\n      <th>2022-12-08 06:01:00</th>\n      <td>311.577950</td>\n      <td>16812.328981</td>\n      <td>16831.803163</td>\n    </tr>\n  </tbody>\n</table>\n<p>2792281 rows × 3 columns</p>\n</div>"
     },
     "execution_count": 27,
     "metadata": {},
     "output_type": "execute_result"
    }
   ],
   "source": [
    "from rl_trading.data.provider import MarketDataProvider\n",
    "\n",
    "provider = MarketDataProvider('/home/fassty/Devel/school/diploma_thesis/code/data/binance_BTC_USDT.h5')\n",
    "\n"
   ],
   "metadata": {
    "collapsed": false
   }
  },
  {
   "cell_type": "code",
   "execution_count": 28,
   "outputs": [
    {
     "data": {
      "text/plain": "                        volume         price          vwap\ntimestamp                                                 \n2022-12-08 05:57:00  140.37299  16822.509019  16831.999490\n2022-12-08 05:58:00  135.65255  16823.593779  16831.976833\n2022-12-08 05:59:00  106.76121  16823.667239  16831.959242\n2022-12-08 06:00:00  160.92933  16820.593849  16831.923092\n2022-12-08 06:01:00  311.57795  16812.328981  16831.803163",
      "text/html": "<div>\n<style scoped>\n    .dataframe tbody tr th:only-of-type {\n        vertical-align: middle;\n    }\n\n    .dataframe tbody tr th {\n        vertical-align: top;\n    }\n\n    .dataframe thead th {\n        text-align: right;\n    }\n</style>\n<table border=\"1\" class=\"dataframe\">\n  <thead>\n    <tr style=\"text-align: right;\">\n      <th></th>\n      <th>volume</th>\n      <th>price</th>\n      <th>vwap</th>\n    </tr>\n    <tr>\n      <th>timestamp</th>\n      <th></th>\n      <th></th>\n      <th></th>\n    </tr>\n  </thead>\n  <tbody>\n    <tr>\n      <th>2022-12-08 05:57:00</th>\n      <td>140.37299</td>\n      <td>16822.509019</td>\n      <td>16831.999490</td>\n    </tr>\n    <tr>\n      <th>2022-12-08 05:58:00</th>\n      <td>135.65255</td>\n      <td>16823.593779</td>\n      <td>16831.976833</td>\n    </tr>\n    <tr>\n      <th>2022-12-08 05:59:00</th>\n      <td>106.76121</td>\n      <td>16823.667239</td>\n      <td>16831.959242</td>\n    </tr>\n    <tr>\n      <th>2022-12-08 06:00:00</th>\n      <td>160.92933</td>\n      <td>16820.593849</td>\n      <td>16831.923092</td>\n    </tr>\n    <tr>\n      <th>2022-12-08 06:01:00</th>\n      <td>311.57795</td>\n      <td>16812.328981</td>\n      <td>16831.803163</td>\n    </tr>\n  </tbody>\n</table>\n</div>"
     },
     "execution_count": 28,
     "metadata": {},
     "output_type": "execute_result"
    }
   ],
   "source": [
    "provider.market_data.tail()"
   ],
   "metadata": {
    "collapsed": false
   }
  },
  {
   "cell_type": "code",
   "execution_count": 42,
   "outputs": [
    {
     "data": {
      "text/plain": "                         volume         price          vwap\n2022-12-08 05:58:00   135.65255  16823.593779  16831.976833\n2022-12-08 05:59:00   106.76121  16823.667239  16831.959242\n2022-12-08 06:00:00   160.92933  16820.593849  16831.923092\n2022-12-08 06:01:00   311.57795  16812.328981  16831.803163\n2023-06-08 10:16:23  9999.00000   9999.000000   9999.000000",
      "text/html": "<div>\n<style scoped>\n    .dataframe tbody tr th:only-of-type {\n        vertical-align: middle;\n    }\n\n    .dataframe tbody tr th {\n        vertical-align: top;\n    }\n\n    .dataframe thead th {\n        text-align: right;\n    }\n</style>\n<table border=\"1\" class=\"dataframe\">\n  <thead>\n    <tr style=\"text-align: right;\">\n      <th></th>\n      <th>volume</th>\n      <th>price</th>\n      <th>vwap</th>\n    </tr>\n  </thead>\n  <tbody>\n    <tr>\n      <th>2022-12-08 05:58:00</th>\n      <td>135.65255</td>\n      <td>16823.593779</td>\n      <td>16831.976833</td>\n    </tr>\n    <tr>\n      <th>2022-12-08 05:59:00</th>\n      <td>106.76121</td>\n      <td>16823.667239</td>\n      <td>16831.959242</td>\n    </tr>\n    <tr>\n      <th>2022-12-08 06:00:00</th>\n      <td>160.92933</td>\n      <td>16820.593849</td>\n      <td>16831.923092</td>\n    </tr>\n    <tr>\n      <th>2022-12-08 06:01:00</th>\n      <td>311.57795</td>\n      <td>16812.328981</td>\n      <td>16831.803163</td>\n    </tr>\n    <tr>\n      <th>2023-06-08 10:16:23</th>\n      <td>9999.00000</td>\n      <td>9999.000000</td>\n      <td>9999.000000</td>\n    </tr>\n  </tbody>\n</table>\n</div>"
     },
     "execution_count": 42,
     "metadata": {},
     "output_type": "execute_result"
    }
   ],
   "source": [
    "import pandas as pd\n",
    "\n",
    "ndf = pd.DataFrame(data={\n",
    "    'price': 9999,\n",
    "    'volume': 9999,\n",
    "    'vwap': 9999,\n",
    "}, index=[pd.to_datetime(int(datetime.datetime.now().timestamp()) * 1e9)])\n",
    "\n",
    "pd.concat([provider.market_data, ndf], ignore_index=False).tail()"
   ],
   "metadata": {
    "collapsed": false
   }
  },
  {
   "cell_type": "code",
   "execution_count": 49,
   "outputs": [
    {
     "data": {
      "text/plain": "1.686219383e+18"
     },
     "execution_count": 49,
     "metadata": {},
     "output_type": "execute_result"
    }
   ],
   "source": [
    "int(ndf.index[-1].timestamp()) * 1e9"
   ],
   "metadata": {
    "collapsed": false
   }
  },
  {
   "cell_type": "code",
   "execution_count": 55,
   "outputs": [],
   "source": [
    "i = 3\n",
    "while i < 5:\n",
    "    i += 1\n",
    "    break\n",
    "else:\n",
    "    print('Wut?')"
   ],
   "metadata": {
    "collapsed": false
   }
  },
  {
   "cell_type": "code",
   "execution_count": null,
   "outputs": [],
   "source": [],
   "metadata": {
    "collapsed": false
   }
  }
 ],
 "metadata": {
  "kernelspec": {
   "display_name": "Python 3",
   "language": "python",
   "name": "python3"
  },
  "language_info": {
   "codemirror_mode": {
    "name": "ipython",
    "version": 2
   },
   "file_extension": ".py",
   "mimetype": "text/x-python",
   "name": "python",
   "nbconvert_exporter": "python",
   "pygments_lexer": "ipython2",
   "version": "2.7.6"
  }
 },
 "nbformat": 4,
 "nbformat_minor": 0
}
