{
 "cells": [
  {
   "cell_type": "code",
   "execution_count": 2,
   "metadata": {
    "collapsed": true
   },
   "outputs": [
    {
     "name": "stdout",
     "output_type": "stream",
     "text": [
      "Using matplotlib backend: <object object at 0x7ff08150a8d0>\n"
     ]
    }
   ],
   "source": [
    "%load_ext autoreload\n",
    "%autoreload 2\n",
    "%matplotlib\n",
    "import numpy as np\n",
    "\n",
    "from rl_trading.simulation.env import StockExchangeEnv1"
   ]
  },
  {
   "cell_type": "code",
   "execution_count": 3,
   "outputs": [],
   "source": [
    "from rl_trading.data.indicators import *\n",
    "\n",
    "state_config = {\n",
    "        'market_state': ['vwap'],\n",
    "        'technical_indicators': [\n",
    "            (EMA, dict(timeperiod=5, normalize=True), '1min'),\n",
    "            (EMA, dict(timeperiod=13, normalize=True), '1min'),\n",
    "            (RSI, dict(timeperiod=7, normalize=True), '1min'),\n",
    "            (BBANDS, dict(timeperiod=10), '1min'),\n",
    "            (EMA, dict(timeperiod=20, normalize=True), '1h'),\n",
    "            (EMA, dict(timeperiod=50, normalize=True), '1h'),\n",
    "            (RSI, dict(timeperiod=14, normalize=True), '1h'),\n",
    "            (BBANDS, dict(timeperiod=20), '1h'),\n",
    "            (MACD_DIFF, dict(fastperiod=12, slowperiod=26, signalperiod=9, normalize=True), '1h'),\n",
    "            (EMA, dict(timeperiod=50, normalize=True), '1d'),\n",
    "            (EMA, dict(timeperiod=200, normalize=True), '1d'),\n",
    "            (RSI, dict(timeperiod=14, normalize=True), '1d'),\n",
    "            (BBANDS, dict(timeperiod=20), '1d'),\n",
    "            (MACD_DIFF, dict(fastperiod=12, slowperiod=26, signalperiod=9, normalize=True), '1d'),\n",
    "        ]}"
   ],
   "metadata": {
    "collapsed": false
   }
  },
  {
   "cell_type": "code",
   "execution_count": null,
   "outputs": [],
   "source": [
    "from ray.rllib.algorithms.sac import SACConfig\n",
    "\n",
    "sac = (\n",
    "    SACConfig()\n",
    "    .training(\n",
    "        initial_alpha=0.1,\n",
    "        training_intensity=1,\n",
    "        q_model_config={'fcnet_activation': 'tanh'},\n",
    "        policy_model_config={'fcnet_activation': 'tanh'}\n",
    "    )\n",
    "    .environment(env='StockExchangeEnv-v1')\n",
    "    .rollouts(num_rollout_workers=1, num_envs_per_worker=1)\n",
    "    .resources(num_gpus=1)\n",
    "    .reporting(min_sample_timesteps_per_iteration=1440)\n",
    "    .evaluation(evaluation_interval=5, evaluation_duration=20, evaluation_config={'explore': False})\n",
    "    .build()\n",
    ")\n",
    "\n",
    "for i in range(10):\n",
    "    sac.train()\n",
    "    eval_result = sac.evaluate()\n",
    "    print(f'Episode: {i}, return: ', eval_result['evaluation']['episode_reward_mean'])"
   ],
   "metadata": {
    "collapsed": false
   }
  },
  {
   "cell_type": "code",
   "execution_count": 4,
   "outputs": [
    {
     "name": "stderr",
     "output_type": "stream",
     "text": [
      "\u001B[2m\u001B[36m(RolloutWorker pid=2171749)\u001B[0m 2023-05-28 18:08:30,912\tWARNING env.py:155 -- Your env doesn't have a .spec.max_episode_steps attribute. Your horizon will default to infinity, and your environment will not be reset.\n",
      "\u001B[2m\u001B[36m(RolloutWorker pid=2169299)\u001B[0m 2023-05-28 18:07:17,183\tERROR worker.py:844 -- Exception raised in creation task: The actor died because of an error raised in its creation task, \u001B[36mray::RolloutWorker.__init__()\u001B[39m (pid=2169299, ip=192.168.0.222, repr=<ray.rllib.evaluation.rollout_worker.RolloutWorker object at 0x7f3826b5a6e0>)\u001B[32m [repeated 3x across cluster] (Ray deduplicates logs by default. Set RAY_DEDUP_LOGS=0 to disable log deduplication, or see https://docs.ray.io/en/master/ray-observability/ray-logging.html#log-deduplication for more options.)\u001B[0m\n",
      "\u001B[2m\u001B[36m(RolloutWorker pid=2169299)\u001B[0m   File \"/home/fassty/anaconda3/envs/diploma_thesis/lib/python3.10/site-packages/gymnasium/envs/registration.py\", line 569, in make\u001B[32m [repeated 3x across cluster]\u001B[0m\n",
      "\u001B[2m\u001B[36m(RolloutWorker pid=2169299)\u001B[0m     _check_version_exists(ns, name, version)\u001B[32m [repeated 3x across cluster]\u001B[0m\n",
      "\u001B[2m\u001B[36m(RolloutWorker pid=2169299)\u001B[0m   File \"/home/fassty/anaconda3/envs/diploma_thesis/lib/python3.10/site-packages/gymnasium/envs/registration.py\", line 219, in _check_version_exists\u001B[32m [repeated 3x across cluster]\u001B[0m\n",
      "\u001B[2m\u001B[36m(RolloutWorker pid=2169299)\u001B[0m     _check_name_exists(ns, name)\u001B[32m [repeated 3x across cluster]\u001B[0m\n",
      "\u001B[2m\u001B[36m(RolloutWorker pid=2169299)\u001B[0m   File \"/home/fassty/anaconda3/envs/diploma_thesis/lib/python3.10/site-packages/gymnasium/envs/registration.py\", line 197, in _check_name_exists\u001B[32m [repeated 3x across cluster]\u001B[0m\n",
      "\u001B[2m\u001B[36m(RolloutWorker pid=2169299)\u001B[0m     raise error.NameNotFound(\u001B[32m [repeated 3x across cluster]\u001B[0m\n",
      "\u001B[2m\u001B[36m(RolloutWorker pid=2169299)\u001B[0m gymnasium.error.NameNotFound: Environment StockExchangeEnv doesn't exist. \u001B[32m [repeated 3x across cluster]\u001B[0m\n",
      "\u001B[2m\u001B[36m(RolloutWorker pid=2169299)\u001B[0m \u001B[32m [repeated 9x across cluster]\u001B[0m\n",
      "\u001B[2m\u001B[36m(RolloutWorker pid=2169299)\u001B[0m During handling of the above exception, another exception occurred:\u001B[32m [repeated 3x across cluster]\u001B[0m\n",
      "\u001B[2m\u001B[36m(RolloutWorker pid=2169299)\u001B[0m \u001B[36mray::RolloutWorker.__init__()\u001B[39m (pid=2169299, ip=192.168.0.222, repr=<ray.rllib.evaluation.rollout_worker.RolloutWorker object at 0x7f3826b5a6e0>)\u001B[32m [repeated 3x across cluster]\u001B[0m\n",
      "\u001B[2m\u001B[36m(RolloutWorker pid=2169299)\u001B[0m   File \"/home/fassty/anaconda3/envs/diploma_thesis/lib/python3.10/site-packages/ray/rllib/evaluation/rollout_worker.py\", line 609, in __init__\u001B[32m [repeated 3x across cluster]\u001B[0m\n",
      "\u001B[2m\u001B[36m(RolloutWorker pid=2169299)\u001B[0m     self.env = env_creator(copy.deepcopy(self.env_context))\u001B[32m [repeated 3x across cluster]\u001B[0m\n",
      "\u001B[2m\u001B[36m(RolloutWorker pid=2169299)\u001B[0m   File \"/home/fassty/anaconda3/envs/diploma_thesis/lib/python3.10/site-packages/ray/rllib/env/utils.py\", line 178, in _gym_env_creator\u001B[32m [repeated 3x across cluster]\u001B[0m\n",
      "\u001B[2m\u001B[36m(RolloutWorker pid=2169299)\u001B[0m     raise EnvError(ERR_MSG_INVALID_ENV_DESCRIPTOR.format(env_descriptor))\u001B[32m [repeated 3x across cluster]\u001B[0m\n",
      "\u001B[2m\u001B[36m(RolloutWorker pid=2169299)\u001B[0m ray.rllib.utils.error.EnvError: The env string you provided ('StockExchangeEnv-v1') is:\u001B[32m [repeated 3x across cluster]\u001B[0m\n",
      "\u001B[2m\u001B[36m(RolloutWorker pid=2169299)\u001B[0m a) Not a supported/installed environment.\u001B[32m [repeated 3x across cluster]\u001B[0m\n",
      "\u001B[2m\u001B[36m(RolloutWorker pid=2169299)\u001B[0m b) Not a tune-registered environment creator.\u001B[32m [repeated 3x across cluster]\u001B[0m\n",
      "\u001B[2m\u001B[36m(RolloutWorker pid=2169299)\u001B[0m c) Not a valid env class string.\u001B[32m [repeated 3x across cluster]\u001B[0m\n",
      "\u001B[2m\u001B[36m(RolloutWorker pid=2169299)\u001B[0m Try one of the following:\u001B[32m [repeated 3x across cluster]\u001B[0m\n",
      "\u001B[2m\u001B[36m(RolloutWorker pid=2169299)\u001B[0m a) For Atari support: `pip install gym[atari] autorom[accept-rom-license]`.\u001B[32m [repeated 3x across cluster]\u001B[0m\n",
      "\u001B[2m\u001B[36m(RolloutWorker pid=2169299)\u001B[0m    For VizDoom support: Install VizDoom\u001B[32m [repeated 3x across cluster]\u001B[0m\n",
      "\u001B[2m\u001B[36m(RolloutWorker pid=2169299)\u001B[0m    (https://github.com/mwydmuch/ViZDoom/blob/master/doc/Building.md) and\u001B[32m [repeated 3x across cluster]\u001B[0m\n",
      "\u001B[2m\u001B[36m(RolloutWorker pid=2169299)\u001B[0m    `pip install vizdoomgym`.\u001B[32m [repeated 3x across cluster]\u001B[0m\n",
      "\u001B[2m\u001B[36m(RolloutWorker pid=2169299)\u001B[0m    For PyBullet support: `pip install pybullet`.\u001B[32m [repeated 3x across cluster]\u001B[0m\n",
      "\u001B[2m\u001B[36m(RolloutWorker pid=2169299)\u001B[0m b) To register your custom env, do `from ray import tune;\u001B[32m [repeated 3x across cluster]\u001B[0m\n",
      "\u001B[2m\u001B[36m(RolloutWorker pid=2169299)\u001B[0m    tune.register('[name]', lambda cfg: [return env obj from here using cfg])`.\u001B[32m [repeated 3x across cluster]\u001B[0m\n",
      "\u001B[2m\u001B[36m(RolloutWorker pid=2169299)\u001B[0m    Then in your config, do `config['env'] = [name]`.\u001B[32m [repeated 3x across cluster]\u001B[0m\n",
      "\u001B[2m\u001B[36m(RolloutWorker pid=2169299)\u001B[0m c) Make sure you provide a fully qualified classpath, e.g.:\u001B[32m [repeated 3x across cluster]\u001B[0m\n",
      "\u001B[2m\u001B[36m(RolloutWorker pid=2169299)\u001B[0m    `ray.rllib.examples.env.repeat_after_me_env.RepeatAfterMeEnv`\u001B[32m [repeated 3x across cluster]\u001B[0m\n",
      "2023-05-28 18:08:36,385\tWARNING env.py:155 -- Your env doesn't have a .spec.max_episode_steps attribute. Your horizon will default to infinity, and your environment will not be reset.\n",
      "2023-05-28 18:08:36,468\tINFO trainable.py:172 -- Trainable.setup took 15.962 seconds. If your trainable is slow to initialize, consider setting reuse_actors=True to reduce actor creation overheads.\n"
     ]
    }
   ],
   "source": [
    "from ray.rllib.algorithms.algorithm import Algorithm\n",
    "\n",
    "sac = Algorithm.from_checkpoint('/home/fassty/Devel/school/diploma_thesis/code/exp_results/continuous_env/SAC/SAC_1M_iterations_fee1e-3/SAC_StockExchangeEnv-v1_e6ac2_00000_0_2023-05-27_23-24-53/checkpoint_000050')"
   ],
   "metadata": {
    "collapsed": false
   }
  },
  {
   "cell_type": "code",
   "execution_count": 8,
   "outputs": [
    {
     "ename": "KeyboardInterrupt",
     "evalue": "",
     "output_type": "error",
     "traceback": [
      "\u001B[0;31m---------------------------------------------------------------------------\u001B[0m",
      "\u001B[0;31mKeyboardInterrupt\u001B[0m                         Traceback (most recent call last)",
      "Cell \u001B[0;32mIn[8], line 6\u001B[0m\n\u001B[1;32m      3\u001B[0m state \u001B[38;5;241m=\u001B[39m env\u001B[38;5;241m.\u001B[39mreset(seed\u001B[38;5;241m=\u001B[39m\u001B[38;5;241m52\u001B[39m)[\u001B[38;5;241m0\u001B[39m]\n\u001B[1;32m      5\u001B[0m \u001B[38;5;28;01mfor\u001B[39;00m i \u001B[38;5;129;01min\u001B[39;00m \u001B[38;5;28mrange\u001B[39m(\u001B[38;5;241m1000\u001B[39m):\n\u001B[0;32m----> 6\u001B[0m     \u001B[43menv\u001B[49m\u001B[38;5;241;43m.\u001B[39;49m\u001B[43mrender\u001B[49m\u001B[43m(\u001B[49m\u001B[43m)\u001B[49m\n\u001B[1;32m      7\u001B[0m     action \u001B[38;5;241m=\u001B[39m sac\u001B[38;5;241m.\u001B[39mcompute_single_action(state, explore\u001B[38;5;241m=\u001B[39m\u001B[38;5;28;01mTrue\u001B[39;00m)\n\u001B[1;32m      8\u001B[0m     state, reward, done, _, _ \u001B[38;5;241m=\u001B[39m env\u001B[38;5;241m.\u001B[39mstep(action)\n",
      "File \u001B[0;32m~/Devel/school/diploma_thesis/code/rl_trading/simulation/env.py:257\u001B[0m, in \u001B[0;36mStockExchangeEnv0.render\u001B[0;34m(self, mode)\u001B[0m\n\u001B[1;32m    255\u001B[0m     ax\u001B[38;5;241m.\u001B[39mrelim()\n\u001B[1;32m    256\u001B[0m     ax\u001B[38;5;241m.\u001B[39mautoscale_view(\u001B[38;5;28;01mTrue\u001B[39;00m, \u001B[38;5;28;01mTrue\u001B[39;00m, \u001B[38;5;28;01mTrue\u001B[39;00m)\n\u001B[0;32m--> 257\u001B[0m \u001B[43mplt\u001B[49m\u001B[38;5;241;43m.\u001B[39;49m\u001B[43mpause\u001B[49m\u001B[43m(\u001B[49m\u001B[38;5;241;43m0.01\u001B[39;49m\u001B[43m)\u001B[49m\n",
      "File \u001B[0;32m~/anaconda3/envs/diploma_thesis/lib/python3.10/site-packages/matplotlib/pyplot.py:584\u001B[0m, in \u001B[0;36mpause\u001B[0;34m(interval)\u001B[0m\n\u001B[1;32m    582\u001B[0m     canvas\u001B[38;5;241m.\u001B[39mstart_event_loop(interval)\n\u001B[1;32m    583\u001B[0m \u001B[38;5;28;01melse\u001B[39;00m:\n\u001B[0;32m--> 584\u001B[0m     \u001B[43mtime\u001B[49m\u001B[38;5;241;43m.\u001B[39;49m\u001B[43msleep\u001B[49m\u001B[43m(\u001B[49m\u001B[43minterval\u001B[49m\u001B[43m)\u001B[49m\n",
      "\u001B[0;31mKeyboardInterrupt\u001B[0m: "
     ]
    }
   ],
   "source": [
    "env = StockExchangeEnv1(state_config=state_config,\n",
    "                        exchange_config={'maker_fee': 1e-3})\n",
    "state = env.reset(seed=52)[0]\n",
    "\n",
    "for i in range(1000):\n",
    "    env.render()\n",
    "    action = sac.compute_single_action(state, explore=True)\n",
    "    state, reward, done, _, _ = env.step(action)"
   ],
   "metadata": {
    "collapsed": false
   }
  },
  {
   "cell_type": "code",
   "execution_count": 12,
   "outputs": [
    {
     "data": {
      "text/plain": "SACTorchModel(\n  (action_model): FullyConnectedNetwork(\n    (_logits): SlimFC(\n      (_model): Sequential(\n        (0): Linear(in_features=256, out_features=2, bias=True)\n      )\n    )\n    (_hidden_layers): Sequential(\n      (0): SlimFC(\n        (_model): Sequential(\n          (0): Linear(in_features=17, out_features=256, bias=True)\n          (1): Tanh()\n        )\n      )\n      (1): SlimFC(\n        (_model): Sequential(\n          (0): Linear(in_features=256, out_features=256, bias=True)\n          (1): Tanh()\n        )\n      )\n    )\n    (_value_branch): SlimFC(\n      (_model): Sequential(\n        (0): Linear(in_features=256, out_features=1, bias=True)\n      )\n    )\n  )\n  (q_net): FullyConnectedNetwork(\n    (_logits): SlimFC(\n      (_model): Sequential(\n        (0): Linear(in_features=256, out_features=1, bias=True)\n      )\n    )\n    (_hidden_layers): Sequential(\n      (0): SlimFC(\n        (_model): Sequential(\n          (0): Linear(in_features=18, out_features=256, bias=True)\n          (1): Tanh()\n        )\n      )\n      (1): SlimFC(\n        (_model): Sequential(\n          (0): Linear(in_features=256, out_features=256, bias=True)\n          (1): Tanh()\n        )\n      )\n    )\n    (_value_branch): SlimFC(\n      (_model): Sequential(\n        (0): Linear(in_features=256, out_features=1, bias=True)\n      )\n    )\n  )\n  (twin_q_net): FullyConnectedNetwork(\n    (_logits): SlimFC(\n      (_model): Sequential(\n        (0): Linear(in_features=256, out_features=1, bias=True)\n      )\n    )\n    (_hidden_layers): Sequential(\n      (0): SlimFC(\n        (_model): Sequential(\n          (0): Linear(in_features=18, out_features=256, bias=True)\n          (1): Tanh()\n        )\n      )\n      (1): SlimFC(\n        (_model): Sequential(\n          (0): Linear(in_features=256, out_features=256, bias=True)\n          (1): Tanh()\n        )\n      )\n    )\n    (_value_branch): SlimFC(\n      (_model): Sequential(\n        (0): Linear(in_features=256, out_features=1, bias=True)\n      )\n    )\n  )\n)"
     },
     "execution_count": 12,
     "metadata": {},
     "output_type": "execute_result"
    }
   ],
   "source": [
    "sac.get_policy().model"
   ],
   "metadata": {
    "collapsed": false
   }
  },
  {
   "cell_type": "code",
   "execution_count": null,
   "outputs": [],
   "source": [],
   "metadata": {
    "collapsed": false
   }
  }
 ],
 "metadata": {
  "kernelspec": {
   "display_name": "Python 3",
   "language": "python",
   "name": "python3"
  },
  "language_info": {
   "codemirror_mode": {
    "name": "ipython",
    "version": 2
   },
   "file_extension": ".py",
   "mimetype": "text/x-python",
   "name": "python",
   "nbconvert_exporter": "python",
   "pygments_lexer": "ipython2",
   "version": "2.7.6"
  }
 },
 "nbformat": 4,
 "nbformat_minor": 0
}
